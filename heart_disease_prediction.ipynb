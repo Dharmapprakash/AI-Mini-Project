{
  "cells": [
    {
      "cell_type": "markdown",
      "metadata": {
        "id": "view-in-github",
        "colab_type": "text"
      },
      "source": [
        "<a href=\"https://colab.research.google.com/github/Dharmapprakash/AI-Mini-Project/blob/main/heart_disease_prediction.ipynb\" target=\"_parent\"><img src=\"https://colab.research.google.com/assets/colab-badge.svg\" alt=\"Open In Colab\"/></a>"
      ]
    },
    {
      "cell_type": "code",
      "execution_count": 2,
      "metadata": {
        "colab": {
          "base_uri": "https://localhost:8080/"
        },
        "id": "ba3d2964",
        "outputId": "4b7f70df-15a4-45a4-a73c-75d72c0dba00"
      },
      "outputs": [
        {
          "output_type": "stream",
          "name": "stdout",
          "text": [
            "['.config', 'Heart.csv', 'sample_data']\n"
          ]
        }
      ],
      "source": [
        "import numpy as np\n",
        "import pandas as pd\n",
        "import matplotlib.pyplot as plt\n",
        "import seaborn as sns\n",
        "\n",
        "%matplotlib inline\n",
        "\n",
        "import os\n",
        "print(os.listdir())\n",
        "\n",
        "import warnings\n",
        "warnings.filterwarnings('ignore')"
      ],
      "id": "ba3d2964"
    },
    {
      "cell_type": "code",
      "execution_count": 3,
      "metadata": {
        "id": "31b35998"
      },
      "outputs": [],
      "source": [
        "dataset = pd.read_csv(\"Heart.csv\")\n"
      ],
      "id": "31b35998"
    },
    {
      "cell_type": "code",
      "execution_count": 4,
      "metadata": {
        "colab": {
          "base_uri": "https://localhost:8080/"
        },
        "id": "130391fd",
        "outputId": "340525d5-fcb8-4b0c-c082-9bf39007cb2f"
      },
      "outputs": [
        {
          "output_type": "execute_result",
          "data": {
            "text/plain": [
              "pandas.core.frame.DataFrame"
            ]
          },
          "metadata": {},
          "execution_count": 4
        }
      ],
      "source": [
        "type(dataset)\n"
      ],
      "id": "130391fd"
    },
    {
      "cell_type": "code",
      "execution_count": 5,
      "metadata": {
        "colab": {
          "base_uri": "https://localhost:8080/"
        },
        "id": "18275374",
        "outputId": "4947c328-cabb-4e26-d048-112673abeefa"
      },
      "outputs": [
        {
          "output_type": "execute_result",
          "data": {
            "text/plain": [
              "(303, 14)"
            ]
          },
          "metadata": {},
          "execution_count": 5
        }
      ],
      "source": [
        "dataset.shape\n"
      ],
      "id": "18275374"
    },
    {
      "cell_type": "code",
      "execution_count": 6,
      "metadata": {
        "colab": {
          "base_uri": "https://localhost:8080/",
          "height": 206
        },
        "id": "80148efe",
        "outputId": "340a0643-b445-4e5a-955c-7742df95c693"
      },
      "outputs": [
        {
          "output_type": "execute_result",
          "data": {
            "text/plain": [
              "   age  sex  cp  trestbps  chol  fbs  restecg  thalach  exang  oldpeak  slope  \\\n",
              "0   63    1   3       145   233    1        0      150      0      2.3      0   \n",
              "1   37    1   2       130   250    0        1      187      0      3.5      0   \n",
              "2   41    0   1       130   204    0        0      172      0      1.4      2   \n",
              "3   56    1   1       120   236    0        1      178      0      0.8      2   \n",
              "4   57    0   0       120   354    0        1      163      1      0.6      2   \n",
              "\n",
              "   ca  thal  target  \n",
              "0   0     1       1  \n",
              "1   0     2       1  \n",
              "2   0     2       1  \n",
              "3   0     2       1  \n",
              "4   0     2       1  "
            ],
            "text/html": [
              "\n",
              "  <div id=\"df-3e071241-15b1-43e7-a70f-5f51f3714465\">\n",
              "    <div class=\"colab-df-container\">\n",
              "      <div>\n",
              "<style scoped>\n",
              "    .dataframe tbody tr th:only-of-type {\n",
              "        vertical-align: middle;\n",
              "    }\n",
              "\n",
              "    .dataframe tbody tr th {\n",
              "        vertical-align: top;\n",
              "    }\n",
              "\n",
              "    .dataframe thead th {\n",
              "        text-align: right;\n",
              "    }\n",
              "</style>\n",
              "<table border=\"1\" class=\"dataframe\">\n",
              "  <thead>\n",
              "    <tr style=\"text-align: right;\">\n",
              "      <th></th>\n",
              "      <th>age</th>\n",
              "      <th>sex</th>\n",
              "      <th>cp</th>\n",
              "      <th>trestbps</th>\n",
              "      <th>chol</th>\n",
              "      <th>fbs</th>\n",
              "      <th>restecg</th>\n",
              "      <th>thalach</th>\n",
              "      <th>exang</th>\n",
              "      <th>oldpeak</th>\n",
              "      <th>slope</th>\n",
              "      <th>ca</th>\n",
              "      <th>thal</th>\n",
              "      <th>target</th>\n",
              "    </tr>\n",
              "  </thead>\n",
              "  <tbody>\n",
              "    <tr>\n",
              "      <th>0</th>\n",
              "      <td>63</td>\n",
              "      <td>1</td>\n",
              "      <td>3</td>\n",
              "      <td>145</td>\n",
              "      <td>233</td>\n",
              "      <td>1</td>\n",
              "      <td>0</td>\n",
              "      <td>150</td>\n",
              "      <td>0</td>\n",
              "      <td>2.3</td>\n",
              "      <td>0</td>\n",
              "      <td>0</td>\n",
              "      <td>1</td>\n",
              "      <td>1</td>\n",
              "    </tr>\n",
              "    <tr>\n",
              "      <th>1</th>\n",
              "      <td>37</td>\n",
              "      <td>1</td>\n",
              "      <td>2</td>\n",
              "      <td>130</td>\n",
              "      <td>250</td>\n",
              "      <td>0</td>\n",
              "      <td>1</td>\n",
              "      <td>187</td>\n",
              "      <td>0</td>\n",
              "      <td>3.5</td>\n",
              "      <td>0</td>\n",
              "      <td>0</td>\n",
              "      <td>2</td>\n",
              "      <td>1</td>\n",
              "    </tr>\n",
              "    <tr>\n",
              "      <th>2</th>\n",
              "      <td>41</td>\n",
              "      <td>0</td>\n",
              "      <td>1</td>\n",
              "      <td>130</td>\n",
              "      <td>204</td>\n",
              "      <td>0</td>\n",
              "      <td>0</td>\n",
              "      <td>172</td>\n",
              "      <td>0</td>\n",
              "      <td>1.4</td>\n",
              "      <td>2</td>\n",
              "      <td>0</td>\n",
              "      <td>2</td>\n",
              "      <td>1</td>\n",
              "    </tr>\n",
              "    <tr>\n",
              "      <th>3</th>\n",
              "      <td>56</td>\n",
              "      <td>1</td>\n",
              "      <td>1</td>\n",
              "      <td>120</td>\n",
              "      <td>236</td>\n",
              "      <td>0</td>\n",
              "      <td>1</td>\n",
              "      <td>178</td>\n",
              "      <td>0</td>\n",
              "      <td>0.8</td>\n",
              "      <td>2</td>\n",
              "      <td>0</td>\n",
              "      <td>2</td>\n",
              "      <td>1</td>\n",
              "    </tr>\n",
              "    <tr>\n",
              "      <th>4</th>\n",
              "      <td>57</td>\n",
              "      <td>0</td>\n",
              "      <td>0</td>\n",
              "      <td>120</td>\n",
              "      <td>354</td>\n",
              "      <td>0</td>\n",
              "      <td>1</td>\n",
              "      <td>163</td>\n",
              "      <td>1</td>\n",
              "      <td>0.6</td>\n",
              "      <td>2</td>\n",
              "      <td>0</td>\n",
              "      <td>2</td>\n",
              "      <td>1</td>\n",
              "    </tr>\n",
              "  </tbody>\n",
              "</table>\n",
              "</div>\n",
              "      <button class=\"colab-df-convert\" onclick=\"convertToInteractive('df-3e071241-15b1-43e7-a70f-5f51f3714465')\"\n",
              "              title=\"Convert this dataframe to an interactive table.\"\n",
              "              style=\"display:none;\">\n",
              "        \n",
              "  <svg xmlns=\"http://www.w3.org/2000/svg\" height=\"24px\"viewBox=\"0 0 24 24\"\n",
              "       width=\"24px\">\n",
              "    <path d=\"M0 0h24v24H0V0z\" fill=\"none\"/>\n",
              "    <path d=\"M18.56 5.44l.94 2.06.94-2.06 2.06-.94-2.06-.94-.94-2.06-.94 2.06-2.06.94zm-11 1L8.5 8.5l.94-2.06 2.06-.94-2.06-.94L8.5 2.5l-.94 2.06-2.06.94zm10 10l.94 2.06.94-2.06 2.06-.94-2.06-.94-.94-2.06-.94 2.06-2.06.94z\"/><path d=\"M17.41 7.96l-1.37-1.37c-.4-.4-.92-.59-1.43-.59-.52 0-1.04.2-1.43.59L10.3 9.45l-7.72 7.72c-.78.78-.78 2.05 0 2.83L4 21.41c.39.39.9.59 1.41.59.51 0 1.02-.2 1.41-.59l7.78-7.78 2.81-2.81c.8-.78.8-2.07 0-2.86zM5.41 20L4 18.59l7.72-7.72 1.47 1.35L5.41 20z\"/>\n",
              "  </svg>\n",
              "      </button>\n",
              "      \n",
              "  <style>\n",
              "    .colab-df-container {\n",
              "      display:flex;\n",
              "      flex-wrap:wrap;\n",
              "      gap: 12px;\n",
              "    }\n",
              "\n",
              "    .colab-df-convert {\n",
              "      background-color: #E8F0FE;\n",
              "      border: none;\n",
              "      border-radius: 50%;\n",
              "      cursor: pointer;\n",
              "      display: none;\n",
              "      fill: #1967D2;\n",
              "      height: 32px;\n",
              "      padding: 0 0 0 0;\n",
              "      width: 32px;\n",
              "    }\n",
              "\n",
              "    .colab-df-convert:hover {\n",
              "      background-color: #E2EBFA;\n",
              "      box-shadow: 0px 1px 2px rgba(60, 64, 67, 0.3), 0px 1px 3px 1px rgba(60, 64, 67, 0.15);\n",
              "      fill: #174EA6;\n",
              "    }\n",
              "\n",
              "    [theme=dark] .colab-df-convert {\n",
              "      background-color: #3B4455;\n",
              "      fill: #D2E3FC;\n",
              "    }\n",
              "\n",
              "    [theme=dark] .colab-df-convert:hover {\n",
              "      background-color: #434B5C;\n",
              "      box-shadow: 0px 1px 3px 1px rgba(0, 0, 0, 0.15);\n",
              "      filter: drop-shadow(0px 1px 2px rgba(0, 0, 0, 0.3));\n",
              "      fill: #FFFFFF;\n",
              "    }\n",
              "  </style>\n",
              "\n",
              "      <script>\n",
              "        const buttonEl =\n",
              "          document.querySelector('#df-3e071241-15b1-43e7-a70f-5f51f3714465 button.colab-df-convert');\n",
              "        buttonEl.style.display =\n",
              "          google.colab.kernel.accessAllowed ? 'block' : 'none';\n",
              "\n",
              "        async function convertToInteractive(key) {\n",
              "          const element = document.querySelector('#df-3e071241-15b1-43e7-a70f-5f51f3714465');\n",
              "          const dataTable =\n",
              "            await google.colab.kernel.invokeFunction('convertToInteractive',\n",
              "                                                     [key], {});\n",
              "          if (!dataTable) return;\n",
              "\n",
              "          const docLinkHtml = 'Like what you see? Visit the ' +\n",
              "            '<a target=\"_blank\" href=https://colab.research.google.com/notebooks/data_table.ipynb>data table notebook</a>'\n",
              "            + ' to learn more about interactive tables.';\n",
              "          element.innerHTML = '';\n",
              "          dataTable['output_type'] = 'display_data';\n",
              "          await google.colab.output.renderOutput(dataTable, element);\n",
              "          const docLink = document.createElement('div');\n",
              "          docLink.innerHTML = docLinkHtml;\n",
              "          element.appendChild(docLink);\n",
              "        }\n",
              "      </script>\n",
              "    </div>\n",
              "  </div>\n",
              "  "
            ]
          },
          "metadata": {},
          "execution_count": 6
        }
      ],
      "source": [
        "dataset.head(5)\n"
      ],
      "id": "80148efe"
    },
    {
      "cell_type": "code",
      "execution_count": 7,
      "metadata": {
        "colab": {
          "base_uri": "https://localhost:8080/",
          "height": 206
        },
        "id": "50477aea",
        "outputId": "2f95466c-bd89-480d-f102-da069ca4b11b"
      },
      "outputs": [
        {
          "output_type": "execute_result",
          "data": {
            "text/plain": [
              "     age  sex  cp  trestbps  chol  fbs  restecg  thalach  exang  oldpeak  \\\n",
              "286   59    1   3       134   204    0        1      162      0      0.8   \n",
              "162   41    1   1       120   157    0        1      182      0      0.0   \n",
              "284   61    1   0       140   207    0        0      138      1      1.9   \n",
              "227   35    1   0       120   198    0        1      130      1      1.6   \n",
              "23    61    1   2       150   243    1        1      137      1      1.0   \n",
              "\n",
              "     slope  ca  thal  target  \n",
              "286      2   2     2       0  \n",
              "162      2   0     2       1  \n",
              "284      2   1     3       0  \n",
              "227      1   0     3       0  \n",
              "23       1   0     2       1  "
            ],
            "text/html": [
              "\n",
              "  <div id=\"df-703f59c5-1180-4230-a081-e3125d027fcc\">\n",
              "    <div class=\"colab-df-container\">\n",
              "      <div>\n",
              "<style scoped>\n",
              "    .dataframe tbody tr th:only-of-type {\n",
              "        vertical-align: middle;\n",
              "    }\n",
              "\n",
              "    .dataframe tbody tr th {\n",
              "        vertical-align: top;\n",
              "    }\n",
              "\n",
              "    .dataframe thead th {\n",
              "        text-align: right;\n",
              "    }\n",
              "</style>\n",
              "<table border=\"1\" class=\"dataframe\">\n",
              "  <thead>\n",
              "    <tr style=\"text-align: right;\">\n",
              "      <th></th>\n",
              "      <th>age</th>\n",
              "      <th>sex</th>\n",
              "      <th>cp</th>\n",
              "      <th>trestbps</th>\n",
              "      <th>chol</th>\n",
              "      <th>fbs</th>\n",
              "      <th>restecg</th>\n",
              "      <th>thalach</th>\n",
              "      <th>exang</th>\n",
              "      <th>oldpeak</th>\n",
              "      <th>slope</th>\n",
              "      <th>ca</th>\n",
              "      <th>thal</th>\n",
              "      <th>target</th>\n",
              "    </tr>\n",
              "  </thead>\n",
              "  <tbody>\n",
              "    <tr>\n",
              "      <th>286</th>\n",
              "      <td>59</td>\n",
              "      <td>1</td>\n",
              "      <td>3</td>\n",
              "      <td>134</td>\n",
              "      <td>204</td>\n",
              "      <td>0</td>\n",
              "      <td>1</td>\n",
              "      <td>162</td>\n",
              "      <td>0</td>\n",
              "      <td>0.8</td>\n",
              "      <td>2</td>\n",
              "      <td>2</td>\n",
              "      <td>2</td>\n",
              "      <td>0</td>\n",
              "    </tr>\n",
              "    <tr>\n",
              "      <th>162</th>\n",
              "      <td>41</td>\n",
              "      <td>1</td>\n",
              "      <td>1</td>\n",
              "      <td>120</td>\n",
              "      <td>157</td>\n",
              "      <td>0</td>\n",
              "      <td>1</td>\n",
              "      <td>182</td>\n",
              "      <td>0</td>\n",
              "      <td>0.0</td>\n",
              "      <td>2</td>\n",
              "      <td>0</td>\n",
              "      <td>2</td>\n",
              "      <td>1</td>\n",
              "    </tr>\n",
              "    <tr>\n",
              "      <th>284</th>\n",
              "      <td>61</td>\n",
              "      <td>1</td>\n",
              "      <td>0</td>\n",
              "      <td>140</td>\n",
              "      <td>207</td>\n",
              "      <td>0</td>\n",
              "      <td>0</td>\n",
              "      <td>138</td>\n",
              "      <td>1</td>\n",
              "      <td>1.9</td>\n",
              "      <td>2</td>\n",
              "      <td>1</td>\n",
              "      <td>3</td>\n",
              "      <td>0</td>\n",
              "    </tr>\n",
              "    <tr>\n",
              "      <th>227</th>\n",
              "      <td>35</td>\n",
              "      <td>1</td>\n",
              "      <td>0</td>\n",
              "      <td>120</td>\n",
              "      <td>198</td>\n",
              "      <td>0</td>\n",
              "      <td>1</td>\n",
              "      <td>130</td>\n",
              "      <td>1</td>\n",
              "      <td>1.6</td>\n",
              "      <td>1</td>\n",
              "      <td>0</td>\n",
              "      <td>3</td>\n",
              "      <td>0</td>\n",
              "    </tr>\n",
              "    <tr>\n",
              "      <th>23</th>\n",
              "      <td>61</td>\n",
              "      <td>1</td>\n",
              "      <td>2</td>\n",
              "      <td>150</td>\n",
              "      <td>243</td>\n",
              "      <td>1</td>\n",
              "      <td>1</td>\n",
              "      <td>137</td>\n",
              "      <td>1</td>\n",
              "      <td>1.0</td>\n",
              "      <td>1</td>\n",
              "      <td>0</td>\n",
              "      <td>2</td>\n",
              "      <td>1</td>\n",
              "    </tr>\n",
              "  </tbody>\n",
              "</table>\n",
              "</div>\n",
              "      <button class=\"colab-df-convert\" onclick=\"convertToInteractive('df-703f59c5-1180-4230-a081-e3125d027fcc')\"\n",
              "              title=\"Convert this dataframe to an interactive table.\"\n",
              "              style=\"display:none;\">\n",
              "        \n",
              "  <svg xmlns=\"http://www.w3.org/2000/svg\" height=\"24px\"viewBox=\"0 0 24 24\"\n",
              "       width=\"24px\">\n",
              "    <path d=\"M0 0h24v24H0V0z\" fill=\"none\"/>\n",
              "    <path d=\"M18.56 5.44l.94 2.06.94-2.06 2.06-.94-2.06-.94-.94-2.06-.94 2.06-2.06.94zm-11 1L8.5 8.5l.94-2.06 2.06-.94-2.06-.94L8.5 2.5l-.94 2.06-2.06.94zm10 10l.94 2.06.94-2.06 2.06-.94-2.06-.94-.94-2.06-.94 2.06-2.06.94z\"/><path d=\"M17.41 7.96l-1.37-1.37c-.4-.4-.92-.59-1.43-.59-.52 0-1.04.2-1.43.59L10.3 9.45l-7.72 7.72c-.78.78-.78 2.05 0 2.83L4 21.41c.39.39.9.59 1.41.59.51 0 1.02-.2 1.41-.59l7.78-7.78 2.81-2.81c.8-.78.8-2.07 0-2.86zM5.41 20L4 18.59l7.72-7.72 1.47 1.35L5.41 20z\"/>\n",
              "  </svg>\n",
              "      </button>\n",
              "      \n",
              "  <style>\n",
              "    .colab-df-container {\n",
              "      display:flex;\n",
              "      flex-wrap:wrap;\n",
              "      gap: 12px;\n",
              "    }\n",
              "\n",
              "    .colab-df-convert {\n",
              "      background-color: #E8F0FE;\n",
              "      border: none;\n",
              "      border-radius: 50%;\n",
              "      cursor: pointer;\n",
              "      display: none;\n",
              "      fill: #1967D2;\n",
              "      height: 32px;\n",
              "      padding: 0 0 0 0;\n",
              "      width: 32px;\n",
              "    }\n",
              "\n",
              "    .colab-df-convert:hover {\n",
              "      background-color: #E2EBFA;\n",
              "      box-shadow: 0px 1px 2px rgba(60, 64, 67, 0.3), 0px 1px 3px 1px rgba(60, 64, 67, 0.15);\n",
              "      fill: #174EA6;\n",
              "    }\n",
              "\n",
              "    [theme=dark] .colab-df-convert {\n",
              "      background-color: #3B4455;\n",
              "      fill: #D2E3FC;\n",
              "    }\n",
              "\n",
              "    [theme=dark] .colab-df-convert:hover {\n",
              "      background-color: #434B5C;\n",
              "      box-shadow: 0px 1px 3px 1px rgba(0, 0, 0, 0.15);\n",
              "      filter: drop-shadow(0px 1px 2px rgba(0, 0, 0, 0.3));\n",
              "      fill: #FFFFFF;\n",
              "    }\n",
              "  </style>\n",
              "\n",
              "      <script>\n",
              "        const buttonEl =\n",
              "          document.querySelector('#df-703f59c5-1180-4230-a081-e3125d027fcc button.colab-df-convert');\n",
              "        buttonEl.style.display =\n",
              "          google.colab.kernel.accessAllowed ? 'block' : 'none';\n",
              "\n",
              "        async function convertToInteractive(key) {\n",
              "          const element = document.querySelector('#df-703f59c5-1180-4230-a081-e3125d027fcc');\n",
              "          const dataTable =\n",
              "            await google.colab.kernel.invokeFunction('convertToInteractive',\n",
              "                                                     [key], {});\n",
              "          if (!dataTable) return;\n",
              "\n",
              "          const docLinkHtml = 'Like what you see? Visit the ' +\n",
              "            '<a target=\"_blank\" href=https://colab.research.google.com/notebooks/data_table.ipynb>data table notebook</a>'\n",
              "            + ' to learn more about interactive tables.';\n",
              "          element.innerHTML = '';\n",
              "          dataTable['output_type'] = 'display_data';\n",
              "          await google.colab.output.renderOutput(dataTable, element);\n",
              "          const docLink = document.createElement('div');\n",
              "          docLink.innerHTML = docLinkHtml;\n",
              "          element.appendChild(docLink);\n",
              "        }\n",
              "      </script>\n",
              "    </div>\n",
              "  </div>\n",
              "  "
            ]
          },
          "metadata": {},
          "execution_count": 7
        }
      ],
      "source": [
        "dataset.sample(5)\n"
      ],
      "id": "50477aea"
    },
    {
      "cell_type": "code",
      "execution_count": 8,
      "metadata": {
        "colab": {
          "base_uri": "https://localhost:8080/",
          "height": 364
        },
        "id": "b56201a7",
        "outputId": "d04b0403-b9a6-4afb-b123-37eede3e89bb"
      },
      "outputs": [
        {
          "output_type": "execute_result",
          "data": {
            "text/plain": [
              "              age         sex          cp    trestbps        chol         fbs  \\\n",
              "count  303.000000  303.000000  303.000000  303.000000  303.000000  303.000000   \n",
              "mean    54.366337    0.683168    0.966997  131.623762  246.264026    0.148515   \n",
              "std      9.082101    0.466011    1.032052   17.538143   51.830751    0.356198   \n",
              "min     29.000000    0.000000    0.000000   94.000000  126.000000    0.000000   \n",
              "25%     47.500000    0.000000    0.000000  120.000000  211.000000    0.000000   \n",
              "50%     55.000000    1.000000    1.000000  130.000000  240.000000    0.000000   \n",
              "75%     61.000000    1.000000    2.000000  140.000000  274.500000    0.000000   \n",
              "max     77.000000    1.000000    3.000000  200.000000  564.000000    1.000000   \n",
              "\n",
              "          restecg     thalach       exang     oldpeak       slope          ca  \\\n",
              "count  303.000000  303.000000  303.000000  303.000000  303.000000  303.000000   \n",
              "mean     0.528053  149.646865    0.326733    1.039604    1.399340    0.729373   \n",
              "std      0.525860   22.905161    0.469794    1.161075    0.616226    1.022606   \n",
              "min      0.000000   71.000000    0.000000    0.000000    0.000000    0.000000   \n",
              "25%      0.000000  133.500000    0.000000    0.000000    1.000000    0.000000   \n",
              "50%      1.000000  153.000000    0.000000    0.800000    1.000000    0.000000   \n",
              "75%      1.000000  166.000000    1.000000    1.600000    2.000000    1.000000   \n",
              "max      2.000000  202.000000    1.000000    6.200000    2.000000    4.000000   \n",
              "\n",
              "             thal      target  \n",
              "count  303.000000  303.000000  \n",
              "mean     2.313531    0.544554  \n",
              "std      0.612277    0.498835  \n",
              "min      0.000000    0.000000  \n",
              "25%      2.000000    0.000000  \n",
              "50%      2.000000    1.000000  \n",
              "75%      3.000000    1.000000  \n",
              "max      3.000000    1.000000  "
            ],
            "text/html": [
              "\n",
              "  <div id=\"df-af537420-5cec-4755-8d85-47544dec121e\">\n",
              "    <div class=\"colab-df-container\">\n",
              "      <div>\n",
              "<style scoped>\n",
              "    .dataframe tbody tr th:only-of-type {\n",
              "        vertical-align: middle;\n",
              "    }\n",
              "\n",
              "    .dataframe tbody tr th {\n",
              "        vertical-align: top;\n",
              "    }\n",
              "\n",
              "    .dataframe thead th {\n",
              "        text-align: right;\n",
              "    }\n",
              "</style>\n",
              "<table border=\"1\" class=\"dataframe\">\n",
              "  <thead>\n",
              "    <tr style=\"text-align: right;\">\n",
              "      <th></th>\n",
              "      <th>age</th>\n",
              "      <th>sex</th>\n",
              "      <th>cp</th>\n",
              "      <th>trestbps</th>\n",
              "      <th>chol</th>\n",
              "      <th>fbs</th>\n",
              "      <th>restecg</th>\n",
              "      <th>thalach</th>\n",
              "      <th>exang</th>\n",
              "      <th>oldpeak</th>\n",
              "      <th>slope</th>\n",
              "      <th>ca</th>\n",
              "      <th>thal</th>\n",
              "      <th>target</th>\n",
              "    </tr>\n",
              "  </thead>\n",
              "  <tbody>\n",
              "    <tr>\n",
              "      <th>count</th>\n",
              "      <td>303.000000</td>\n",
              "      <td>303.000000</td>\n",
              "      <td>303.000000</td>\n",
              "      <td>303.000000</td>\n",
              "      <td>303.000000</td>\n",
              "      <td>303.000000</td>\n",
              "      <td>303.000000</td>\n",
              "      <td>303.000000</td>\n",
              "      <td>303.000000</td>\n",
              "      <td>303.000000</td>\n",
              "      <td>303.000000</td>\n",
              "      <td>303.000000</td>\n",
              "      <td>303.000000</td>\n",
              "      <td>303.000000</td>\n",
              "    </tr>\n",
              "    <tr>\n",
              "      <th>mean</th>\n",
              "      <td>54.366337</td>\n",
              "      <td>0.683168</td>\n",
              "      <td>0.966997</td>\n",
              "      <td>131.623762</td>\n",
              "      <td>246.264026</td>\n",
              "      <td>0.148515</td>\n",
              "      <td>0.528053</td>\n",
              "      <td>149.646865</td>\n",
              "      <td>0.326733</td>\n",
              "      <td>1.039604</td>\n",
              "      <td>1.399340</td>\n",
              "      <td>0.729373</td>\n",
              "      <td>2.313531</td>\n",
              "      <td>0.544554</td>\n",
              "    </tr>\n",
              "    <tr>\n",
              "      <th>std</th>\n",
              "      <td>9.082101</td>\n",
              "      <td>0.466011</td>\n",
              "      <td>1.032052</td>\n",
              "      <td>17.538143</td>\n",
              "      <td>51.830751</td>\n",
              "      <td>0.356198</td>\n",
              "      <td>0.525860</td>\n",
              "      <td>22.905161</td>\n",
              "      <td>0.469794</td>\n",
              "      <td>1.161075</td>\n",
              "      <td>0.616226</td>\n",
              "      <td>1.022606</td>\n",
              "      <td>0.612277</td>\n",
              "      <td>0.498835</td>\n",
              "    </tr>\n",
              "    <tr>\n",
              "      <th>min</th>\n",
              "      <td>29.000000</td>\n",
              "      <td>0.000000</td>\n",
              "      <td>0.000000</td>\n",
              "      <td>94.000000</td>\n",
              "      <td>126.000000</td>\n",
              "      <td>0.000000</td>\n",
              "      <td>0.000000</td>\n",
              "      <td>71.000000</td>\n",
              "      <td>0.000000</td>\n",
              "      <td>0.000000</td>\n",
              "      <td>0.000000</td>\n",
              "      <td>0.000000</td>\n",
              "      <td>0.000000</td>\n",
              "      <td>0.000000</td>\n",
              "    </tr>\n",
              "    <tr>\n",
              "      <th>25%</th>\n",
              "      <td>47.500000</td>\n",
              "      <td>0.000000</td>\n",
              "      <td>0.000000</td>\n",
              "      <td>120.000000</td>\n",
              "      <td>211.000000</td>\n",
              "      <td>0.000000</td>\n",
              "      <td>0.000000</td>\n",
              "      <td>133.500000</td>\n",
              "      <td>0.000000</td>\n",
              "      <td>0.000000</td>\n",
              "      <td>1.000000</td>\n",
              "      <td>0.000000</td>\n",
              "      <td>2.000000</td>\n",
              "      <td>0.000000</td>\n",
              "    </tr>\n",
              "    <tr>\n",
              "      <th>50%</th>\n",
              "      <td>55.000000</td>\n",
              "      <td>1.000000</td>\n",
              "      <td>1.000000</td>\n",
              "      <td>130.000000</td>\n",
              "      <td>240.000000</td>\n",
              "      <td>0.000000</td>\n",
              "      <td>1.000000</td>\n",
              "      <td>153.000000</td>\n",
              "      <td>0.000000</td>\n",
              "      <td>0.800000</td>\n",
              "      <td>1.000000</td>\n",
              "      <td>0.000000</td>\n",
              "      <td>2.000000</td>\n",
              "      <td>1.000000</td>\n",
              "    </tr>\n",
              "    <tr>\n",
              "      <th>75%</th>\n",
              "      <td>61.000000</td>\n",
              "      <td>1.000000</td>\n",
              "      <td>2.000000</td>\n",
              "      <td>140.000000</td>\n",
              "      <td>274.500000</td>\n",
              "      <td>0.000000</td>\n",
              "      <td>1.000000</td>\n",
              "      <td>166.000000</td>\n",
              "      <td>1.000000</td>\n",
              "      <td>1.600000</td>\n",
              "      <td>2.000000</td>\n",
              "      <td>1.000000</td>\n",
              "      <td>3.000000</td>\n",
              "      <td>1.000000</td>\n",
              "    </tr>\n",
              "    <tr>\n",
              "      <th>max</th>\n",
              "      <td>77.000000</td>\n",
              "      <td>1.000000</td>\n",
              "      <td>3.000000</td>\n",
              "      <td>200.000000</td>\n",
              "      <td>564.000000</td>\n",
              "      <td>1.000000</td>\n",
              "      <td>2.000000</td>\n",
              "      <td>202.000000</td>\n",
              "      <td>1.000000</td>\n",
              "      <td>6.200000</td>\n",
              "      <td>2.000000</td>\n",
              "      <td>4.000000</td>\n",
              "      <td>3.000000</td>\n",
              "      <td>1.000000</td>\n",
              "    </tr>\n",
              "  </tbody>\n",
              "</table>\n",
              "</div>\n",
              "      <button class=\"colab-df-convert\" onclick=\"convertToInteractive('df-af537420-5cec-4755-8d85-47544dec121e')\"\n",
              "              title=\"Convert this dataframe to an interactive table.\"\n",
              "              style=\"display:none;\">\n",
              "        \n",
              "  <svg xmlns=\"http://www.w3.org/2000/svg\" height=\"24px\"viewBox=\"0 0 24 24\"\n",
              "       width=\"24px\">\n",
              "    <path d=\"M0 0h24v24H0V0z\" fill=\"none\"/>\n",
              "    <path d=\"M18.56 5.44l.94 2.06.94-2.06 2.06-.94-2.06-.94-.94-2.06-.94 2.06-2.06.94zm-11 1L8.5 8.5l.94-2.06 2.06-.94-2.06-.94L8.5 2.5l-.94 2.06-2.06.94zm10 10l.94 2.06.94-2.06 2.06-.94-2.06-.94-.94-2.06-.94 2.06-2.06.94z\"/><path d=\"M17.41 7.96l-1.37-1.37c-.4-.4-.92-.59-1.43-.59-.52 0-1.04.2-1.43.59L10.3 9.45l-7.72 7.72c-.78.78-.78 2.05 0 2.83L4 21.41c.39.39.9.59 1.41.59.51 0 1.02-.2 1.41-.59l7.78-7.78 2.81-2.81c.8-.78.8-2.07 0-2.86zM5.41 20L4 18.59l7.72-7.72 1.47 1.35L5.41 20z\"/>\n",
              "  </svg>\n",
              "      </button>\n",
              "      \n",
              "  <style>\n",
              "    .colab-df-container {\n",
              "      display:flex;\n",
              "      flex-wrap:wrap;\n",
              "      gap: 12px;\n",
              "    }\n",
              "\n",
              "    .colab-df-convert {\n",
              "      background-color: #E8F0FE;\n",
              "      border: none;\n",
              "      border-radius: 50%;\n",
              "      cursor: pointer;\n",
              "      display: none;\n",
              "      fill: #1967D2;\n",
              "      height: 32px;\n",
              "      padding: 0 0 0 0;\n",
              "      width: 32px;\n",
              "    }\n",
              "\n",
              "    .colab-df-convert:hover {\n",
              "      background-color: #E2EBFA;\n",
              "      box-shadow: 0px 1px 2px rgba(60, 64, 67, 0.3), 0px 1px 3px 1px rgba(60, 64, 67, 0.15);\n",
              "      fill: #174EA6;\n",
              "    }\n",
              "\n",
              "    [theme=dark] .colab-df-convert {\n",
              "      background-color: #3B4455;\n",
              "      fill: #D2E3FC;\n",
              "    }\n",
              "\n",
              "    [theme=dark] .colab-df-convert:hover {\n",
              "      background-color: #434B5C;\n",
              "      box-shadow: 0px 1px 3px 1px rgba(0, 0, 0, 0.15);\n",
              "      filter: drop-shadow(0px 1px 2px rgba(0, 0, 0, 0.3));\n",
              "      fill: #FFFFFF;\n",
              "    }\n",
              "  </style>\n",
              "\n",
              "      <script>\n",
              "        const buttonEl =\n",
              "          document.querySelector('#df-af537420-5cec-4755-8d85-47544dec121e button.colab-df-convert');\n",
              "        buttonEl.style.display =\n",
              "          google.colab.kernel.accessAllowed ? 'block' : 'none';\n",
              "\n",
              "        async function convertToInteractive(key) {\n",
              "          const element = document.querySelector('#df-af537420-5cec-4755-8d85-47544dec121e');\n",
              "          const dataTable =\n",
              "            await google.colab.kernel.invokeFunction('convertToInteractive',\n",
              "                                                     [key], {});\n",
              "          if (!dataTable) return;\n",
              "\n",
              "          const docLinkHtml = 'Like what you see? Visit the ' +\n",
              "            '<a target=\"_blank\" href=https://colab.research.google.com/notebooks/data_table.ipynb>data table notebook</a>'\n",
              "            + ' to learn more about interactive tables.';\n",
              "          element.innerHTML = '';\n",
              "          dataTable['output_type'] = 'display_data';\n",
              "          await google.colab.output.renderOutput(dataTable, element);\n",
              "          const docLink = document.createElement('div');\n",
              "          docLink.innerHTML = docLinkHtml;\n",
              "          element.appendChild(docLink);\n",
              "        }\n",
              "      </script>\n",
              "    </div>\n",
              "  </div>\n",
              "  "
            ]
          },
          "metadata": {},
          "execution_count": 8
        }
      ],
      "source": [
        "dataset.describe()\n"
      ],
      "id": "b56201a7"
    },
    {
      "cell_type": "code",
      "execution_count": 9,
      "metadata": {
        "colab": {
          "base_uri": "https://localhost:8080/"
        },
        "id": "fa67edc1",
        "outputId": "b3bce034-abc8-44f6-db20-47816067df69"
      },
      "outputs": [
        {
          "output_type": "stream",
          "name": "stdout",
          "text": [
            "<class 'pandas.core.frame.DataFrame'>\n",
            "RangeIndex: 303 entries, 0 to 302\n",
            "Data columns (total 14 columns):\n",
            " #   Column    Non-Null Count  Dtype  \n",
            "---  ------    --------------  -----  \n",
            " 0   age       303 non-null    int64  \n",
            " 1   sex       303 non-null    int64  \n",
            " 2   cp        303 non-null    int64  \n",
            " 3   trestbps  303 non-null    int64  \n",
            " 4   chol      303 non-null    int64  \n",
            " 5   fbs       303 non-null    int64  \n",
            " 6   restecg   303 non-null    int64  \n",
            " 7   thalach   303 non-null    int64  \n",
            " 8   exang     303 non-null    int64  \n",
            " 9   oldpeak   303 non-null    float64\n",
            " 10  slope     303 non-null    int64  \n",
            " 11  ca        303 non-null    int64  \n",
            " 12  thal      303 non-null    int64  \n",
            " 13  target    303 non-null    int64  \n",
            "dtypes: float64(1), int64(13)\n",
            "memory usage: 33.3 KB\n"
          ]
        }
      ],
      "source": [
        "dataset.info()"
      ],
      "id": "fa67edc1"
    },
    {
      "cell_type": "code",
      "execution_count": 10,
      "metadata": {
        "colab": {
          "base_uri": "https://localhost:8080/"
        },
        "id": "d7120203",
        "outputId": "7bbb8eaf-d6b5-4d32-a3cf-46e670c90d4a"
      },
      "outputs": [
        {
          "output_type": "stream",
          "name": "stdout",
          "text": [
            "age:\t\t\tage\n",
            "sex:\t\t\t1: male, 0: female\n",
            "cp:\t\t\tchest pain type, 1: typical angina, 2: atypical angina, 3: non-anginal pain, 4: asymptomatic\n",
            "trestbps:\t\t\tresting blood pressure\n",
            "chol:\t\t\t serum cholestoral in mg/dl\n",
            "fbs:\t\t\tfasting blood sugar > 120 mg/dl\n",
            "restecg:\t\t\tresting electrocardiographic results (values 0,1,2)\n",
            "thalach:\t\t\t maximum heart rate achieved\n",
            "exang:\t\t\texercise induced angina\n",
            "oldpeak:\t\t\toldpeak = ST depression induced by exercise relative to rest\n",
            "slope:\t\t\tthe slope of the peak exercise ST segment\n",
            "ca:\t\t\tnumber of major vessels (0-3) colored by flourosopy\n",
            "thal:\t\t\tthal: 3 = normal; 6 = fixed defect; 7 = reversable defect\n"
          ]
        }
      ],
      "source": [
        "info = [\"age\",\"1: male, 0: female\",\"chest pain type, 1: typical angina, 2: atypical angina, 3: non-anginal pain, 4: asymptomatic\",\"resting blood pressure\",\" serum cholestoral in mg/dl\",\"fasting blood sugar > 120 mg/dl\",\"resting electrocardiographic results (values 0,1,2)\",\" maximum heart rate achieved\",\"exercise induced angina\",\"oldpeak = ST depression induced by exercise relative to rest\",\"the slope of the peak exercise ST segment\",\"number of major vessels (0-3) colored by flourosopy\",\"thal: 3 = normal; 6 = fixed defect; 7 = reversable defect\"]\n",
        "\n",
        "\n",
        "\n",
        "for i in range(len(info)):\n",
        "    print(dataset.columns[i]+\":\\t\\t\\t\"+info[i])"
      ],
      "id": "d7120203"
    },
    {
      "cell_type": "code",
      "execution_count": 11,
      "metadata": {
        "colab": {
          "base_uri": "https://localhost:8080/"
        },
        "id": "6a1d1470",
        "outputId": "acf7af79-70d6-43ae-854c-b58545bf7620"
      },
      "outputs": [
        {
          "output_type": "execute_result",
          "data": {
            "text/plain": [
              "count    303.000000\n",
              "mean       0.544554\n",
              "std        0.498835\n",
              "min        0.000000\n",
              "25%        0.000000\n",
              "50%        1.000000\n",
              "75%        1.000000\n",
              "max        1.000000\n",
              "Name: target, dtype: float64"
            ]
          },
          "metadata": {},
          "execution_count": 11
        }
      ],
      "source": [
        "dataset[\"target\"].describe()\n"
      ],
      "id": "6a1d1470"
    },
    {
      "cell_type": "code",
      "execution_count": 12,
      "metadata": {
        "colab": {
          "base_uri": "https://localhost:8080/"
        },
        "id": "aa14b35a",
        "outputId": "d2372f2c-0634-490b-b34f-737ccba4ecb0"
      },
      "outputs": [
        {
          "output_type": "execute_result",
          "data": {
            "text/plain": [
              "array([1, 0])"
            ]
          },
          "metadata": {},
          "execution_count": 12
        }
      ],
      "source": [
        "dataset[\"target\"].unique()\n"
      ],
      "id": "aa14b35a"
    },
    {
      "cell_type": "code",
      "execution_count": 13,
      "metadata": {
        "colab": {
          "base_uri": "https://localhost:8080/"
        },
        "id": "e59be592",
        "outputId": "7788c526-e891-4623-d520-83a804a1c07e"
      },
      "outputs": [
        {
          "output_type": "stream",
          "name": "stdout",
          "text": [
            "target      1.000000\n",
            "exang       0.436757\n",
            "cp          0.433798\n",
            "oldpeak     0.430696\n",
            "thalach     0.421741\n",
            "ca          0.391724\n",
            "slope       0.345877\n",
            "thal        0.344029\n",
            "sex         0.280937\n",
            "age         0.225439\n",
            "trestbps    0.144931\n",
            "restecg     0.137230\n",
            "chol        0.085239\n",
            "fbs         0.028046\n",
            "Name: target, dtype: float64\n"
          ]
        }
      ],
      "source": [
        "print(dataset.corr()[\"target\"].abs().sort_values(ascending=False))\n"
      ],
      "id": "e59be592"
    },
    {
      "cell_type": "code",
      "execution_count": 14,
      "metadata": {
        "colab": {
          "base_uri": "https://localhost:8080/",
          "height": 331
        },
        "id": "23df51c0",
        "outputId": "93c1d012-091c-4fe6-8d78-6b67025bfb1a"
      },
      "outputs": [
        {
          "output_type": "stream",
          "name": "stdout",
          "text": [
            "1    165\n",
            "0    138\n",
            "Name: target, dtype: int64\n"
          ]
        },
        {
          "output_type": "display_data",
          "data": {
            "text/plain": [
              "<Figure size 432x288 with 1 Axes>"
            ],
            "image/png": "[encoded data removed]"
          },
          "metadata": {
            "needs_background": "light"
          }
        }
      ],
      "source": [
        "y = dataset[\"target\"]\n",
        "\n",
        "sns.countplot(y)\n",
        "\n",
        "\n",
        "target_temp = dataset.target.value_counts()\n",
        "\n",
        "print(target_temp)"
      ],
      "id": "23df51c0"
    },
    {
      "cell_type": "code",
      "execution_count": 15,
      "metadata": {
        "colab": {
          "base_uri": "https://localhost:8080/"
        },
        "id": "ad1a929e",
        "outputId": "11cec433-4e4d-4c9a-9ef9-d0c9bfb04cec"
      },
      "outputs": [
        {
          "output_type": "stream",
          "name": "stdout",
          "text": [
            "Percentage of patience without heart problems: 45.54\n",
            "Percentage of patience with heart problems: 54.46\n"
          ]
        }
      ],
      "source": [
        "print(\"Percentage of patience without heart problems: \"+str(round(target_temp[0]*100/303,2)))\n",
        "print(\"Percentage of patience with heart problems: \"+str(round(target_temp[1]*100/303,2)))\n",
        "\n",
        "#Alternatively,\n",
        "# print(\"Percentage of patience with heart problems: \"+str(y.where(y==1).count()*100/303))\n",
        "# print(\"Percentage of patience with heart problems: \"+str(y.where(y==0).count()*100/303))\n",
        "\n",
        "# #Or,\n",
        "# countNoDisease = len(df[df.target == 0])\n",
        "# countHaveDisease = len(df[df.target == 1])"
      ],
      "id": "ad1a929e"
    },
    {
      "cell_type": "code",
      "execution_count": 16,
      "metadata": {
        "colab": {
          "base_uri": "https://localhost:8080/"
        },
        "id": "ff1cd21a",
        "outputId": "bea67388-adab-4190-fa53-1b9728d064e0"
      },
      "outputs": [
        {
          "output_type": "execute_result",
          "data": {
            "text/plain": [
              "array([1, 0])"
            ]
          },
          "metadata": {},
          "execution_count": 16
        }
      ],
      "source": [
        "dataset[\"sex\"].unique()"
      ],
      "id": "ff1cd21a"
    },
    {
      "cell_type": "code",
      "execution_count": 17,
      "metadata": {
        "colab": {
          "base_uri": "https://localhost:8080/",
          "height": 296
        },
        "id": "15482bf6",
        "outputId": "16580631-baec-4b60-eb55-24aeed1e8d14"
      },
      "outputs": [
        {
          "output_type": "execute_result",
          "data": {
            "text/plain": [
              "<matplotlib.axes._subplots.AxesSubplot at 0x7f2d0f75a290>"
            ]
          },
          "metadata": {},
          "execution_count": 17
        },
        {
          "output_type": "display_data",
          "data": {
            "text/plain": [
              "<Figure size 432x288 with 1 Axes>"
            ],
            "image/png": "[encoded data removed]"
          },
          "metadata": {
            "needs_background": "light"
          }
        }
      ],
      "source": [
        "sns.barplot(dataset[\"sex\"],y)\n"
      ],
      "id": "15482bf6"
    },
    {
      "cell_type": "code",
      "execution_count": 18,
      "metadata": {
        "colab": {
          "base_uri": "https://localhost:8080/"
        },
        "id": "7da808f1",
        "outputId": "9ca0ef40-efb3-4eb4-d0de-f4144a2d9cae"
      },
      "outputs": [
        {
          "output_type": "execute_result",
          "data": {
            "text/plain": [
              "array([3, 2, 1, 0])"
            ]
          },
          "metadata": {},
          "execution_count": 18
        }
      ],
      "source": [
        "dataset[\"cp\"].unique()"
      ],
      "id": "7da808f1"
    },
    {
      "cell_type": "code",
      "execution_count": 19,
      "metadata": {
        "colab": {
          "base_uri": "https://localhost:8080/",
          "height": 296
        },
        "id": "a08d79e4",
        "outputId": "e53e08c6-d7bf-4f3e-b961-8ba122d4b0df"
      },
      "outputs": [
        {
          "output_type": "execute_result",
          "data": {
            "text/plain": [
              "<matplotlib.axes._subplots.AxesSubplot at 0x7f2d0f28ff50>"
            ]
          },
          "metadata": {},
          "execution_count": 19
        },
        {
          "output_type": "display_data",
          "data": {
            "text/plain": [
              "<Figure size 432x288 with 1 Axes>"
            ],
            "image/png": "[encoded data removed]"
          },
          "metadata": {
            "needs_background": "light"
          }
        }
      ],
      "source": [
        "sns.barplot(dataset[\"cp\"],y)\n"
      ],
      "id": "a08d79e4"
    },
    {
      "cell_type": "code",
      "execution_count": 20,
      "metadata": {
        "colab": {
          "base_uri": "https://localhost:8080/"
        },
        "id": "79bde144",
        "outputId": "71941106-aff2-443d-e9b3-41a525e042d1"
      },
      "outputs": [
        {
          "output_type": "execute_result",
          "data": {
            "text/plain": [
              "count    303.000000\n",
              "mean       0.148515\n",
              "std        0.356198\n",
              "min        0.000000\n",
              "25%        0.000000\n",
              "50%        0.000000\n",
              "75%        0.000000\n",
              "max        1.000000\n",
              "Name: fbs, dtype: float64"
            ]
          },
          "metadata": {},
          "execution_count": 20
        }
      ],
      "source": [
        "dataset[\"fbs\"].describe()"
      ],
      "id": "79bde144"
    },
    {
      "cell_type": "code",
      "execution_count": 21,
      "metadata": {
        "colab": {
          "base_uri": "https://localhost:8080/"
        },
        "id": "3727177f",
        "outputId": "fde12ab8-6151-4c19-b2e0-a6c3e1630ec1"
      },
      "outputs": [
        {
          "output_type": "execute_result",
          "data": {
            "text/plain": [
              "array([1, 0])"
            ]
          },
          "metadata": {},
          "execution_count": 21
        }
      ],
      "source": [
        "dataset[\"fbs\"].unique()"
      ],
      "id": "3727177f"
    },
    {
      "cell_type": "code",
      "execution_count": 22,
      "metadata": {
        "colab": {
          "base_uri": "https://localhost:8080/",
          "height": 296
        },
        "id": "3f08b25a",
        "outputId": "a822d4a2-0862-4951-983f-5b3fce461a78"
      },
      "outputs": [
        {
          "output_type": "execute_result",
          "data": {
            "text/plain": [
              "<matplotlib.axes._subplots.AxesSubplot at 0x7f2d0f20fc90>"
            ]
          },
          "metadata": {},
          "execution_count": 22
        },
        {
          "output_type": "display_data",
          "data": {
            "text/plain": [
              "<Figure size 432x288 with 1 Axes>"
            ],
            "image/png": "[encoded data removed]"
          },
          "metadata": {
            "needs_background": "light"
          }
        }
      ],
      "source": [
        "sns.barplot(dataset[\"fbs\"],y)"
      ],
      "id": "3f08b25a"
    },
    {
      "cell_type": "code",
      "execution_count": 23,
      "metadata": {
        "colab": {
          "base_uri": "https://localhost:8080/"
        },
        "id": "a8a19d21",
        "outputId": "4d7fc704-1b37-4d96-f6ee-c27ee70818df"
      },
      "outputs": [
        {
          "output_type": "execute_result",
          "data": {
            "text/plain": [
              "array([3, 2, 1, 0])"
            ]
          },
          "metadata": {},
          "execution_count": 23
        }
      ],
      "source": [
        "dataset[\"cp\"].unique()"
      ],
      "id": "a8a19d21"
    },
    {
      "cell_type": "code",
      "execution_count": 24,
      "metadata": {
        "colab": {
          "base_uri": "https://localhost:8080/",
          "height": 296
        },
        "id": "9d21c7f9",
        "outputId": "9345a0ed-bc3f-4f8f-f46d-37c98cdf0d7c"
      },
      "outputs": [
        {
          "output_type": "execute_result",
          "data": {
            "text/plain": [
              "<matplotlib.axes._subplots.AxesSubplot at 0x7f2d0f1eed10>"
            ]
          },
          "metadata": {},
          "execution_count": 24
        },
        {
          "output_type": "display_data",
          "data": {
            "text/plain": [
              "<Figure size 432x288 with 1 Axes>"
            ],
            "image/png": "[encoded data removed]"
          },
          "metadata": {
            "needs_background": "light"
          }
        }
      ],
      "source": [
        "sns.barplot(dataset[\"cp\"],y)"
      ],
      "id": "9d21c7f9"
    },
    {
      "cell_type": "code",
      "execution_count": 25,
      "metadata": {
        "colab": {
          "base_uri": "https://localhost:8080/"
        },
        "id": "3ec92334",
        "outputId": "771ed95d-da33-4fdf-c2f4-463df5b90d24"
      },
      "outputs": [
        {
          "output_type": "execute_result",
          "data": {
            "text/plain": [
              "count    303.000000\n",
              "mean       0.148515\n",
              "std        0.356198\n",
              "min        0.000000\n",
              "25%        0.000000\n",
              "50%        0.000000\n",
              "75%        0.000000\n",
              "max        1.000000\n",
              "Name: fbs, dtype: float64"
            ]
          },
          "metadata": {},
          "execution_count": 25
        }
      ],
      "source": [
        "dataset[\"fbs\"].describe()"
      ],
      "id": "3ec92334"
    },
    {
      "cell_type": "code",
      "execution_count": 26,
      "metadata": {
        "colab": {
          "base_uri": "https://localhost:8080/"
        },
        "id": "dbf77b80",
        "outputId": "eec6d13d-6050-4615-897d-577055e4bdc0"
      },
      "outputs": [
        {
          "output_type": "execute_result",
          "data": {
            "text/plain": [
              "array([1, 0])"
            ]
          },
          "metadata": {},
          "execution_count": 26
        }
      ],
      "source": [
        "dataset[\"fbs\"].unique()\n"
      ],
      "id": "dbf77b80"
    },
    {
      "cell_type": "code",
      "execution_count": 27,
      "metadata": {
        "colab": {
          "base_uri": "https://localhost:8080/"
        },
        "id": "be0aeb19",
        "outputId": "f662fb29-be54-4611-8293-49d921f87c43"
      },
      "outputs": [
        {
          "output_type": "execute_result",
          "data": {
            "text/plain": [
              "array([0, 1, 2])"
            ]
          },
          "metadata": {},
          "execution_count": 27
        }
      ],
      "source": [
        "dataset[\"restecg\"].unique()\n",
        "\n"
      ],
      "id": "be0aeb19"
    },
    {
      "cell_type": "code",
      "execution_count": 28,
      "metadata": {
        "colab": {
          "base_uri": "https://localhost:8080/",
          "height": 296
        },
        "id": "96963f70",
        "outputId": "f312af51-610b-498c-d67c-020f901d3385"
      },
      "outputs": [
        {
          "output_type": "execute_result",
          "data": {
            "text/plain": [
              "<matplotlib.axes._subplots.AxesSubplot at 0x7f2d12ade6d0>"
            ]
          },
          "metadata": {},
          "execution_count": 28
        },
        {
          "output_type": "display_data",
          "data": {
            "text/plain": [
              "<Figure size 432x288 with 1 Axes>"
            ],
            "image/png": "[encoded data removed]"
          },
          "metadata": {
            "needs_background": "light"
          }
        }
      ],
      "source": [
        "sns.barplot(dataset[\"restecg\"],y)"
      ],
      "id": "96963f70"
    },
    {
      "cell_type": "code",
      "execution_count": 29,
      "metadata": {
        "colab": {
          "base_uri": "https://localhost:8080/"
        },
        "id": "94bd89c1",
        "outputId": "ade9ec4c-9469-4c77-9af5-c1e043547fb2"
      },
      "outputs": [
        {
          "output_type": "execute_result",
          "data": {
            "text/plain": [
              "array([0, 1])"
            ]
          },
          "metadata": {},
          "execution_count": 29
        }
      ],
      "source": [
        "dataset[\"exang\"].unique()"
      ],
      "id": "94bd89c1"
    },
    {
      "cell_type": "code",
      "execution_count": 30,
      "metadata": {
        "colab": {
          "base_uri": "https://localhost:8080/",
          "height": 296
        },
        "id": "4639a29c",
        "outputId": "97ec0d8b-9a87-4c19-fad8-8dee1323ee41"
      },
      "outputs": [
        {
          "output_type": "execute_result",
          "data": {
            "text/plain": [
              "<matplotlib.axes._subplots.AxesSubplot at 0x7f2d0f0db710>"
            ]
          },
          "metadata": {},
          "execution_count": 30
        },
        {
          "output_type": "display_data",
          "data": {
            "text/plain": [
              "<Figure size 432x288 with 1 Axes>"
            ],
            "image/png": "[encoded data removed]"
          },
          "metadata": {
            "needs_background": "light"
          }
        }
      ],
      "source": [
        "sns.barplot(dataset[\"exang\"],y)"
      ],
      "id": "4639a29c"
    },
    {
      "cell_type": "code",
      "execution_count": 31,
      "metadata": {
        "colab": {
          "base_uri": "https://localhost:8080/"
        },
        "id": "7b9ddd0f",
        "outputId": "76cefea7-7a96-450c-9b08-95ca0139545d"
      },
      "outputs": [
        {
          "output_type": "execute_result",
          "data": {
            "text/plain": [
              "array([0, 2, 1])"
            ]
          },
          "metadata": {},
          "execution_count": 31
        }
      ],
      "source": [
        "dataset[\"slope\"].unique()"
      ],
      "id": "7b9ddd0f"
    },
    {
      "cell_type": "code",
      "execution_count": 32,
      "metadata": {
        "colab": {
          "base_uri": "https://localhost:8080/",
          "height": 296
        },
        "id": "12ef1202",
        "outputId": "f55538e8-c084-49c1-9b77-dac1da37f322"
      },
      "outputs": [
        {
          "output_type": "execute_result",
          "data": {
            "text/plain": [
              "<matplotlib.axes._subplots.AxesSubplot at 0x7f2d0f042ed0>"
            ]
          },
          "metadata": {},
          "execution_count": 32
        },
        {
          "output_type": "display_data",
          "data": {
            "text/plain": [
              "<Figure size 432x288 with 1 Axes>"
            ],
            "image/png": "[encoded data removed]"
          },
          "metadata": {
            "needs_background": "light"
          }
        }
      ],
      "source": [
        "sns.barplot(dataset[\"slope\"],y)"
      ],
      "id": "12ef1202"
    },
    {
      "cell_type": "code",
      "execution_count": 33,
      "metadata": {
        "colab": {
          "base_uri": "https://localhost:8080/"
        },
        "id": "ea4b20f2",
        "outputId": "f6c4008b-8cc1-47e4-b0d9-a3c28619028b"
      },
      "outputs": [
        {
          "output_type": "execute_result",
          "data": {
            "text/plain": [
              "array([0, 2, 1, 3, 4])"
            ]
          },
          "metadata": {},
          "execution_count": 33
        }
      ],
      "source": [
        "dataset[\"ca\"].unique()"
      ],
      "id": "ea4b20f2"
    },
    {
      "cell_type": "code",
      "execution_count": 34,
      "metadata": {
        "colab": {
          "base_uri": "https://localhost:8080/",
          "height": 296
        },
        "id": "73b4baf6",
        "outputId": "a4916f7e-fe4d-41c6-df2b-68f80497d26f"
      },
      "outputs": [
        {
          "output_type": "execute_result",
          "data": {
            "text/plain": [
              "<matplotlib.axes._subplots.AxesSubplot at 0x7f2d0f03bc10>"
            ]
          },
          "metadata": {},
          "execution_count": 34
        },
        {
          "output_type": "display_data",
          "data": {
            "text/plain": [
              "<Figure size 432x288 with 1 Axes>"
            ],
            "image/png": "[encoded data removed]"
          },
          "metadata": {
            "needs_background": "light"
          }
        }
      ],
      "source": [
        "sns.countplot(dataset[\"ca\"])"
      ],
      "id": "73b4baf6"
    },
    {
      "cell_type": "code",
      "execution_count": 35,
      "metadata": {
        "colab": {
          "base_uri": "https://localhost:8080/",
          "height": 296
        },
        "id": "45e513be",
        "outputId": "5ccd8cbe-1f79-4048-b31f-6573a6db94da"
      },
      "outputs": [
        {
          "output_type": "execute_result",
          "data": {
            "text/plain": [
              "<matplotlib.axes._subplots.AxesSubplot at 0x7f2d0efbb290>"
            ]
          },
          "metadata": {},
          "execution_count": 35
        },
        {
          "output_type": "display_data",
          "data": {
            "text/plain": [
              "<Figure size 432x288 with 1 Axes>"
            ],
            "image/png": "[encoded data removed]"
          },
          "metadata": {
            "needs_background": "light"
          }
        }
      ],
      "source": [
        "sns.barplot(dataset[\"ca\"],y)"
      ],
      "id": "45e513be"
    },
    {
      "cell_type": "code",
      "execution_count": 36,
      "metadata": {
        "colab": {
          "base_uri": "https://localhost:8080/"
        },
        "id": "4cfb3c98",
        "outputId": "4c9767d8-f966-49b9-8173-ea32aeadd144"
      },
      "outputs": [
        {
          "output_type": "execute_result",
          "data": {
            "text/plain": [
              "array([1, 2, 3, 0])"
            ]
          },
          "metadata": {},
          "execution_count": 36
        }
      ],
      "source": [
        "dataset[\"thal\"].unique()"
      ],
      "id": "4cfb3c98"
    },
    {
      "cell_type": "code",
      "execution_count": 37,
      "metadata": {
        "colab": {
          "base_uri": "https://localhost:8080/",
          "height": 296
        },
        "id": "d511f0aa",
        "outputId": "c7d8d11b-a279-490c-fb4c-e75b8f9c9d85"
      },
      "outputs": [
        {
          "output_type": "execute_result",
          "data": {
            "text/plain": [
              "<matplotlib.axes._subplots.AxesSubplot at 0x7f2d0ef23550>"
            ]
          },
          "metadata": {},
          "execution_count": 37
        },
        {
          "output_type": "display_data",
          "data": {
            "text/plain": [
              "<Figure size 432x288 with 1 Axes>"
            ],
            "image/png": "[encoded data removed]"
          },
          "metadata": {
            "needs_background": "light"
          }
        }
      ],
      "source": [
        "sns.barplot(dataset[\"thal\"],y)"
      ],
      "id": "d511f0aa"
    },
    {
      "cell_type": "code",
      "execution_count": 38,
      "metadata": {
        "colab": {
          "base_uri": "https://localhost:8080/",
          "height": 296
        },
        "id": "72f4df33",
        "outputId": "8c4916c0-7e0c-44d8-9f55-dd92059fd78c"
      },
      "outputs": [
        {
          "output_type": "execute_result",
          "data": {
            "text/plain": [
              "<matplotlib.axes._subplots.AxesSubplot at 0x7f2d0eea8250>"
            ]
          },
          "metadata": {},
          "execution_count": 38
        },
        {
          "output_type": "display_data",
          "data": {
            "text/plain": [
              "<Figure size 432x288 with 1 Axes>"
            ],
            "image/png": "[encoded data removed]"
          },
          "metadata": {
            "needs_background": "light"
          }
        }
      ],
      "source": [
        "sns.distplot(dataset[\"thal\"])"
      ],
      "id": "72f4df33"
    },
    {
      "cell_type": "code",
      "execution_count": 39,
      "metadata": {
        "id": "20d6891f"
      },
      "outputs": [],
      "source": [
        "from sklearn.model_selection import train_test_split\n",
        "\n",
        "predictors = dataset.drop(\"target\",axis=1)\n",
        "target = dataset[\"target\"]\n",
        "\n",
        "X_train,X_test,Y_train,Y_test = train_test_split(predictors,target,test_size=0.20,random_state=0)"
      ],
      "id": "20d6891f"
    },
    {
      "cell_type": "code",
      "execution_count": 40,
      "metadata": {
        "colab": {
          "base_uri": "https://localhost:8080/"
        },
        "id": "22c4e5dd",
        "outputId": "f5f3bf44-6329-4003-8cb8-a4b7b91cc5c6"
      },
      "outputs": [
        {
          "output_type": "execute_result",
          "data": {
            "text/plain": [
              "(242, 13)"
            ]
          },
          "metadata": {},
          "execution_count": 40
        }
      ],
      "source": [
        "X_train.shape"
      ],
      "id": "22c4e5dd"
    },
    {
      "cell_type": "code",
      "execution_count": 41,
      "metadata": {
        "colab": {
          "base_uri": "https://localhost:8080/"
        },
        "id": "c5edcb8f",
        "outputId": "816188da-82ba-419f-cb94-246f9ce8523c"
      },
      "outputs": [
        {
          "output_type": "execute_result",
          "data": {
            "text/plain": [
              "(61, 13)"
            ]
          },
          "metadata": {},
          "execution_count": 41
        }
      ],
      "source": [
        "X_test.shape"
      ],
      "id": "c5edcb8f"
    },
    {
      "cell_type": "code",
      "execution_count": 42,
      "metadata": {
        "colab": {
          "base_uri": "https://localhost:8080/"
        },
        "id": "e8a9081c",
        "outputId": "457ad0b1-96e1-452a-fe7c-bcb5524a1618"
      },
      "outputs": [
        {
          "output_type": "execute_result",
          "data": {
            "text/plain": [
              "(242,)"
            ]
          },
          "metadata": {},
          "execution_count": 42
        }
      ],
      "source": [
        "Y_train.shape\n"
      ],
      "id": "e8a9081c"
    },
    {
      "cell_type": "code",
      "execution_count": 43,
      "metadata": {
        "colab": {
          "base_uri": "https://localhost:8080/"
        },
        "id": "18081fb7",
        "outputId": "f0303617-deb1-4a41-ad7d-f4af54ced9ee"
      },
      "outputs": [
        {
          "output_type": "execute_result",
          "data": {
            "text/plain": [
              "(61,)"
            ]
          },
          "metadata": {},
          "execution_count": 43
        }
      ],
      "source": [
        "Y_test.shape"
      ],
      "id": "18081fb7"
    },
    {
      "cell_type": "code",
      "execution_count": 44,
      "metadata": {
        "id": "8ebab036"
      },
      "outputs": [],
      "source": [
        "from sklearn.metrics import accuracy_score"
      ],
      "id": "8ebab036"
    },
    {
      "cell_type": "code",
      "execution_count": 45,
      "metadata": {
        "id": "5e585dc1"
      },
      "outputs": [],
      "source": [
        "from sklearn.linear_model import LogisticRegression\n",
        "\n",
        "lr = LogisticRegression()\n",
        "\n",
        "lr.fit(X_train,Y_train)\n",
        "\n",
        "Y_pred_lr = lr.predict(X_test)"
      ],
      "id": "5e585dc1"
    },
    {
      "cell_type": "code",
      "execution_count": 46,
      "metadata": {
        "colab": {
          "base_uri": "https://localhost:8080/"
        },
        "id": "876c6f1f",
        "outputId": "75c1c254-3599-453d-d8ed-029a1231de3d"
      },
      "outputs": [
        {
          "output_type": "execute_result",
          "data": {
            "text/plain": [
              "(61,)"
            ]
          },
          "metadata": {},
          "execution_count": 46
        }
      ],
      "source": [
        "Y_pred_lr.shape"
      ],
      "id": "876c6f1f"
    },
    {
      "cell_type": "code",
      "execution_count": 47,
      "metadata": {
        "colab": {
          "base_uri": "https://localhost:8080/"
        },
        "id": "e6c49417",
        "outputId": "9d5e978b-97e3-4e5b-e616-79816bf55dc4"
      },
      "outputs": [
        {
          "output_type": "stream",
          "name": "stdout",
          "text": [
            "The accuracy score achieved using Logistic Regression is: 85.25 %\n"
          ]
        }
      ],
      "source": [
        "score_lr = round(accuracy_score(Y_pred_lr,Y_test)*100,2)\n",
        "\n",
        "print(\"The accuracy score achieved using Logistic Regression is: \"+str(score_lr)+\" %\")"
      ],
      "id": "e6c49417"
    },
    {
      "cell_type": "code",
      "execution_count": 48,
      "metadata": {
        "id": "0d2582d3"
      },
      "outputs": [],
      "source": [
        "from sklearn.naive_bayes import GaussianNB\n",
        "\n",
        "nb = GaussianNB()\n",
        "\n",
        "nb.fit(X_train,Y_train)\n",
        "\n",
        "Y_pred_nb = nb.predict(X_test)"
      ],
      "id": "0d2582d3"
    },
    {
      "cell_type": "code",
      "execution_count": 49,
      "metadata": {
        "colab": {
          "base_uri": "https://localhost:8080/"
        },
        "id": "622cc7c8",
        "outputId": "6d4963bb-2ac2-47f2-8ece-d522b0a38a2f"
      },
      "outputs": [
        {
          "output_type": "execute_result",
          "data": {
            "text/plain": [
              "(61,)"
            ]
          },
          "metadata": {},
          "execution_count": 49
        }
      ],
      "source": [
        "Y_pred_nb.shape"
      ],
      "id": "622cc7c8"
    },
    {
      "cell_type": "code",
      "execution_count": 50,
      "metadata": {
        "colab": {
          "base_uri": "https://localhost:8080/"
        },
        "id": "e568c405",
        "outputId": "fca494cf-79f1-4201-d434-daab0b7c3bae"
      },
      "outputs": [
        {
          "output_type": "stream",
          "name": "stdout",
          "text": [
            "The accuracy score achieved using Naive Bayes is: 85.25 %\n"
          ]
        }
      ],
      "source": [
        "score_nb = round(accuracy_score(Y_pred_nb,Y_test)*100,2)\n",
        "\n",
        "print(\"The accuracy score achieved using Naive Bayes is: \"+str(score_nb)+\" %\")"
      ],
      "id": "e568c405"
    },
    {
      "cell_type": "code",
      "execution_count": 51,
      "metadata": {
        "id": "7a37ddb0"
      },
      "outputs": [],
      "source": [
        "from sklearn import svm\n",
        "\n",
        "sv = svm.SVC(kernel='linear')\n",
        "\n",
        "sv.fit(X_train, Y_train)\n",
        "\n",
        "Y_pred_svm = sv.predict(X_test)"
      ],
      "id": "7a37ddb0"
    },
    {
      "cell_type": "code",
      "execution_count": 52,
      "metadata": {
        "colab": {
          "base_uri": "https://localhost:8080/"
        },
        "id": "d6bd7656",
        "outputId": "0e3e4266-fc72-4e6b-bd40-4f8078e7a72f"
      },
      "outputs": [
        {
          "output_type": "execute_result",
          "data": {
            "text/plain": [
              "(61,)"
            ]
          },
          "metadata": {},
          "execution_count": 52
        }
      ],
      "source": [
        "Y_pred_svm.shape"
      ],
      "id": "d6bd7656"
    },
    {
      "cell_type": "code",
      "execution_count": 53,
      "metadata": {
        "colab": {
          "base_uri": "https://localhost:8080/"
        },
        "id": "3d5f68f9",
        "outputId": "39c0a8e5-d6b4-43f8-bd6f-eb404f920f39"
      },
      "outputs": [
        {
          "output_type": "stream",
          "name": "stdout",
          "text": [
            "The accuracy score achieved using Linear SVM is: 81.97 %\n"
          ]
        }
      ],
      "source": [
        "score_svm = round(accuracy_score(Y_pred_svm,Y_test)*100,2)\n",
        "\n",
        "print(\"The accuracy score achieved using Linear SVM is: \"+str(score_svm)+\" %\")"
      ],
      "id": "3d5f68f9"
    },
    {
      "cell_type": "code",
      "execution_count": 54,
      "metadata": {
        "id": "b9bad252"
      },
      "outputs": [],
      "source": [
        "from sklearn.neighbors import KNeighborsClassifier\n",
        "\n",
        "knn = KNeighborsClassifier(n_neighbors=7)\n",
        "knn.fit(X_train,Y_train)\n",
        "Y_pred_knn=knn.predict(X_test)"
      ],
      "id": "b9bad252"
    },
    {
      "cell_type": "code",
      "execution_count": 55,
      "metadata": {
        "colab": {
          "base_uri": "https://localhost:8080/"
        },
        "id": "82d09f89",
        "outputId": "eef46bba-b430-427c-deb0-bebc1791d496"
      },
      "outputs": [
        {
          "output_type": "execute_result",
          "data": {
            "text/plain": [
              "(61,)"
            ]
          },
          "metadata": {},
          "execution_count": 55
        }
      ],
      "source": [
        "Y_pred_knn.shape"
      ],
      "id": "82d09f89"
    },
    {
      "cell_type": "code",
      "execution_count": 56,
      "metadata": {
        "colab": {
          "base_uri": "https://localhost:8080/"
        },
        "id": "8aae7024",
        "outputId": "077a58fc-fb9d-4149-89f8-5990cc447e40"
      },
      "outputs": [
        {
          "output_type": "stream",
          "name": "stdout",
          "text": [
            "The accuracy score achieved using KNN is: 67.21 %\n"
          ]
        }
      ],
      "source": [
        "\n",
        "score_knn = round(accuracy_score(Y_pred_knn,Y_test)*100,2)\n",
        "\n",
        "print(\"The accuracy score achieved using KNN is: \"+str(score_knn)+\" %\")"
      ],
      "id": "8aae7024"
    },
    {
      "cell_type": "code",
      "execution_count": 57,
      "metadata": {
        "id": "45c860ab"
      },
      "outputs": [],
      "source": [
        "from sklearn.tree import DecisionTreeClassifier\n",
        "\n",
        "max_accuracy = 0\n",
        "\n",
        "\n",
        "for x in range(200):\n",
        "    dt = DecisionTreeClassifier(random_state=x)\n",
        "    dt.fit(X_train,Y_train)\n",
        "    Y_pred_dt = dt.predict(X_test)\n",
        "    current_accuracy = round(accuracy_score(Y_pred_dt,Y_test)*100,2)\n",
        "    if(current_accuracy>max_accuracy):\n",
        "        max_accuracy = current_accuracy\n",
        "        best_x = x\n",
        "        \n",
        "#print(max_accuracy)\n",
        "#print(best_x)\n",
        "\n",
        "\n",
        "dt = DecisionTreeClassifier(random_state=best_x)\n",
        "dt.fit(X_train,Y_train)\n",
        "Y_pred_dt = dt.predict(X_test)"
      ],
      "id": "45c860ab"
    },
    {
      "cell_type": "code",
      "execution_count": 58,
      "metadata": {
        "colab": {
          "base_uri": "https://localhost:8080/"
        },
        "id": "02e43233",
        "outputId": "8e072431-31ed-4dd1-dfe0-b5f0c9f6f23f"
      },
      "outputs": [
        {
          "output_type": "stream",
          "name": "stdout",
          "text": [
            "(61,)\n"
          ]
        }
      ],
      "source": [
        "print(Y_pred_dt.shape)"
      ],
      "id": "02e43233"
    },
    {
      "cell_type": "code",
      "execution_count": 59,
      "metadata": {
        "colab": {
          "base_uri": "https://localhost:8080/"
        },
        "id": "4ebb0254",
        "outputId": "ecd71815-876f-41e3-ad5d-38a189b56480"
      },
      "outputs": [
        {
          "output_type": "stream",
          "name": "stdout",
          "text": [
            "The accuracy score achieved using Decision Tree is: 81.97 %\n"
          ]
        }
      ],
      "source": [
        "score_dt = round(accuracy_score(Y_pred_dt,Y_test)*100,2)\n",
        "\n",
        "print(\"The accuracy score achieved using Decision Tree is: \"+str(score_dt)+\" %\")\n"
      ],
      "id": "4ebb0254"
    },
    {
      "cell_type": "code",
      "execution_count": 60,
      "metadata": {
        "id": "3d9ca6fd"
      },
      "outputs": [],
      "source": [
        "from sklearn.ensemble import RandomForestClassifier\n",
        "\n",
        "max_accuracy = 0\n",
        "\n",
        "\n",
        "for x in range(2000):\n",
        "    rf = RandomForestClassifier(random_state=x)\n",
        "    rf.fit(X_train,Y_train)\n",
        "    Y_pred_rf = rf.predict(X_test)\n",
        "    current_accuracy = round(accuracy_score(Y_pred_rf,Y_test)*100,2)\n",
        "    if(current_accuracy>max_accuracy):\n",
        "        max_accuracy = current_accuracy\n",
        "        best_x = x\n",
        "        \n",
        "#print(max_accuracy)\n",
        "#print(best_x)\n",
        "\n",
        "rf = RandomForestClassifier(random_state=best_x)\n",
        "rf.fit(X_train,Y_train)\n",
        "Y_pred_rf = rf.predict(X_test)\n"
      ],
      "id": "3d9ca6fd"
    },
    {
      "cell_type": "code",
      "execution_count": 61,
      "metadata": {
        "colab": {
          "base_uri": "https://localhost:8080/"
        },
        "id": "03fde65f",
        "outputId": "17541d7b-e8db-4b3d-93b4-9ef3875e9f10"
      },
      "outputs": [
        {
          "output_type": "execute_result",
          "data": {
            "text/plain": [
              "(61,)"
            ]
          },
          "metadata": {},
          "execution_count": 61
        }
      ],
      "source": [
        "Y_pred_rf.shape"
      ],
      "id": "03fde65f"
    },
    {
      "cell_type": "code",
      "execution_count": 62,
      "metadata": {
        "colab": {
          "base_uri": "https://localhost:8080/"
        },
        "id": "b5bc9198",
        "outputId": "03e5ada5-7e86-47b6-9b49-a7d0b2f2b083"
      },
      "outputs": [
        {
          "output_type": "stream",
          "name": "stdout",
          "text": [
            "The accuracy score achieved using Decision Tree is: 90.16 %\n"
          ]
        }
      ],
      "source": [
        "score_rf = round(accuracy_score(Y_pred_rf,Y_test)*100,2)\n",
        "\n",
        "print(\"The accuracy score achieved using Decision Tree is: \"+str(score_rf)+\" %\")"
      ],
      "id": "b5bc9198"
    },
    {
      "cell_type": "code",
      "execution_count": 63,
      "metadata": {
        "id": "2c804027"
      },
      "outputs": [],
      "source": [
        "import xgboost as xgb\n",
        "\n",
        "xgb_model = xgb.XGBClassifier(objective=\"binary:logistic\", random_state=42)\n",
        "xgb_model.fit(X_train, Y_train)\n",
        "\n",
        "Y_pred_xgb = xgb_model.predict(X_test)"
      ],
      "id": "2c804027"
    },
    {
      "cell_type": "code",
      "execution_count": 64,
      "metadata": {
        "colab": {
          "base_uri": "https://localhost:8080/"
        },
        "id": "f0045ec5",
        "outputId": "c0ef3ed2-54b4-4edc-de55-8581e0df1c2d"
      },
      "outputs": [
        {
          "output_type": "execute_result",
          "data": {
            "text/plain": [
              "(61,)"
            ]
          },
          "metadata": {},
          "execution_count": 64
        }
      ],
      "source": [
        "Y_pred_xgb.shape"
      ],
      "id": "f0045ec5"
    },
    {
      "cell_type": "code",
      "execution_count": 65,
      "metadata": {
        "colab": {
          "base_uri": "https://localhost:8080/"
        },
        "id": "f0a5cc42",
        "outputId": "fa6927eb-5640-41f9-b982-0f24d1b410b6"
      },
      "outputs": [
        {
          "output_type": "stream",
          "name": "stdout",
          "text": [
            "The accuracy score achieved using XGBoost is: 85.25 %\n"
          ]
        }
      ],
      "source": [
        "score_xgb = round(accuracy_score(Y_pred_xgb,Y_test)*100,2)\n",
        "\n",
        "print(\"The accuracy score achieved using XGBoost is: \"+str(score_xgb)+\" %\")"
      ],
      "id": "f0a5cc42"
    },
    {
      "cell_type": "code",
      "execution_count": 66,
      "metadata": {
        "id": "87eccbbe"
      },
      "outputs": [],
      "source": [
        "import tensorflow as tf\n",
        "from tensorflow.keras.models import Sequential\n",
        "from keras.layers import Dense"
      ],
      "id": "87eccbbe"
    },
    {
      "cell_type": "code",
      "execution_count": 67,
      "metadata": {
        "id": "d69f7929"
      },
      "outputs": [],
      "source": [
        "# https://stats.stackexchange.com/a/136542 helped a lot in avoiding overfitting\n",
        "\n",
        "model = Sequential()\n",
        "model.add(Dense(11,activation='relu',input_dim=13))\n",
        "model.add(Dense(1,activation='sigmoid'))\n",
        "\n",
        "model.compile(loss='binary_crossentropy',optimizer='adam',metrics=['accuracy'])"
      ],
      "id": "d69f7929"
    },
    {
      "cell_type": "code",
      "execution_count": 68,
      "metadata": {
        "colab": {
          "base_uri": "https://localhost:8080/"
        },
        "id": "2036381e",
        "outputId": "e18dd5d3-972e-4e09-b1ad-6c09389e75e9"
      },
      "outputs": [
        {
          "output_type": "stream",
          "name": "stdout",
          "text": [
            "Epoch 1/300\n",
            "8/8 [==============================] - 1s 2ms/step - loss: 19.1353 - accuracy: 0.5413\n",
            "Epoch 2/300\n",
            "8/8 [==============================] - 0s 3ms/step - loss: 13.4297 - accuracy: 0.5372\n",
            "Epoch 3/300\n",
            "8/8 [==============================] - 0s 3ms/step - loss: 8.5080 - accuracy: 0.4628\n",
            "Epoch 4/300\n",
            "8/8 [==============================] - 0s 4ms/step - loss: 6.5632 - accuracy: 0.3347\n",
            "Epoch 5/300\n",
            "8/8 [==============================] - 0s 3ms/step - loss: 6.3862 - accuracy: 0.3306\n",
            "Epoch 6/300\n",
            "8/8 [==============================] - 0s 5ms/step - loss: 6.1438 - accuracy: 0.3512\n",
            "Epoch 7/300\n",
            "8/8 [==============================] - 0s 3ms/step - loss: 5.8560 - accuracy: 0.3678\n",
            "Epoch 8/300\n",
            "8/8 [==============================] - 0s 3ms/step - loss: 5.7535 - accuracy: 0.3802\n",
            "Epoch 9/300\n",
            "8/8 [==============================] - 0s 3ms/step - loss: 5.6448 - accuracy: 0.3719\n",
            "Epoch 10/300\n",
            "8/8 [==============================] - 0s 3ms/step - loss: 5.5154 - accuracy: 0.3719\n",
            "Epoch 11/300\n",
            "8/8 [==============================] - 0s 3ms/step - loss: 5.4075 - accuracy: 0.3802\n",
            "Epoch 12/300\n",
            "8/8 [==============================] - 0s 3ms/step - loss: 5.3159 - accuracy: 0.3760\n",
            "Epoch 13/300\n",
            "8/8 [==============================] - 0s 3ms/step - loss: 5.1815 - accuracy: 0.3760\n",
            "Epoch 14/300\n",
            "8/8 [==============================] - 0s 3ms/step - loss: 5.0454 - accuracy: 0.3636\n",
            "Epoch 15/300\n",
            "8/8 [==============================] - 0s 3ms/step - loss: 4.9498 - accuracy: 0.3802\n",
            "Epoch 16/300\n",
            "8/8 [==============================] - 0s 3ms/step - loss: 4.8393 - accuracy: 0.3719\n",
            "Epoch 17/300\n",
            "8/8 [==============================] - 0s 3ms/step - loss: 4.7317 - accuracy: 0.3760\n",
            "Epoch 18/300\n",
            "8/8 [==============================] - 0s 3ms/step - loss: 4.6366 - accuracy: 0.3719\n",
            "Epoch 19/300\n",
            "8/8 [==============================] - 0s 4ms/step - loss: 4.5250 - accuracy: 0.3719\n",
            "Epoch 20/300\n",
            "8/8 [==============================] - 0s 3ms/step - loss: 4.4336 - accuracy: 0.3802\n",
            "Epoch 21/300\n",
            "8/8 [==============================] - 0s 3ms/step - loss: 4.3177 - accuracy: 0.3926\n",
            "Epoch 22/300\n",
            "8/8 [==============================] - 0s 3ms/step - loss: 4.2160 - accuracy: 0.4050\n",
            "Epoch 23/300\n",
            "8/8 [==============================] - 0s 3ms/step - loss: 4.1240 - accuracy: 0.4008\n",
            "Epoch 24/300\n",
            "8/8 [==============================] - 0s 3ms/step - loss: 4.0046 - accuracy: 0.4008\n",
            "Epoch 25/300\n",
            "8/8 [==============================] - 0s 3ms/step - loss: 3.9079 - accuracy: 0.4132\n",
            "Epoch 26/300\n",
            "8/8 [==============================] - 0s 2ms/step - loss: 3.8089 - accuracy: 0.4298\n",
            "Epoch 27/300\n",
            "8/8 [==============================] - 0s 4ms/step - loss: 3.7158 - accuracy: 0.4298\n",
            "Epoch 28/300\n",
            "8/8 [==============================] - 0s 3ms/step - loss: 3.6011 - accuracy: 0.4339\n",
            "Epoch 29/300\n",
            "8/8 [==============================] - 0s 3ms/step - loss: 3.5027 - accuracy: 0.4339\n",
            "Epoch 30/300\n",
            "8/8 [==============================] - 0s 3ms/step - loss: 3.4131 - accuracy: 0.4256\n",
            "Epoch 31/300\n",
            "8/8 [==============================] - 0s 3ms/step - loss: 3.3128 - accuracy: 0.4380\n",
            "Epoch 32/300\n",
            "8/8 [==============================] - 0s 3ms/step - loss: 3.2249 - accuracy: 0.4545\n",
            "Epoch 33/300\n",
            "8/8 [==============================] - 0s 3ms/step - loss: 3.1538 - accuracy: 0.4256\n",
            "Epoch 34/300\n",
            "8/8 [==============================] - 0s 3ms/step - loss: 3.0246 - accuracy: 0.4587\n",
            "Epoch 35/300\n",
            "8/8 [==============================] - 0s 3ms/step - loss: 2.9830 - accuracy: 0.4504\n",
            "Epoch 36/300\n",
            "8/8 [==============================] - 0s 2ms/step - loss: 2.8788 - accuracy: 0.4711\n",
            "Epoch 37/300\n",
            "8/8 [==============================] - 0s 3ms/step - loss: 2.8057 - accuracy: 0.4545\n",
            "Epoch 38/300\n",
            "8/8 [==============================] - 0s 3ms/step - loss: 2.7192 - accuracy: 0.4669\n",
            "Epoch 39/300\n",
            "8/8 [==============================] - 0s 5ms/step - loss: 2.6404 - accuracy: 0.4669\n",
            "Epoch 40/300\n",
            "8/8 [==============================] - 0s 3ms/step - loss: 2.5553 - accuracy: 0.4711\n",
            "Epoch 41/300\n",
            "8/8 [==============================] - 0s 3ms/step - loss: 2.4938 - accuracy: 0.4752\n",
            "Epoch 42/300\n",
            "8/8 [==============================] - 0s 3ms/step - loss: 2.4162 - accuracy: 0.4876\n",
            "Epoch 43/300\n",
            "8/8 [==============================] - 0s 3ms/step - loss: 2.3329 - accuracy: 0.4835\n",
            "Epoch 44/300\n",
            "8/8 [==============================] - 0s 3ms/step - loss: 2.2696 - accuracy: 0.4876\n",
            "Epoch 45/300\n",
            "8/8 [==============================] - 0s 3ms/step - loss: 2.1934 - accuracy: 0.4917\n",
            "Epoch 46/300\n",
            "8/8 [==============================] - 0s 3ms/step - loss: 2.1220 - accuracy: 0.5000\n",
            "Epoch 47/300\n",
            "8/8 [==============================] - 0s 3ms/step - loss: 2.0600 - accuracy: 0.5124\n",
            "Epoch 48/300\n",
            "8/8 [==============================] - 0s 3ms/step - loss: 1.9931 - accuracy: 0.5207\n",
            "Epoch 49/300\n",
            "8/8 [==============================] - 0s 3ms/step - loss: 1.9505 - accuracy: 0.5165\n",
            "Epoch 50/300\n",
            "8/8 [==============================] - 0s 3ms/step - loss: 1.9027 - accuracy: 0.5372\n",
            "Epoch 51/300\n",
            "8/8 [==============================] - 0s 3ms/step - loss: 1.8381 - accuracy: 0.5331\n",
            "Epoch 52/300\n",
            "8/8 [==============================] - 0s 3ms/step - loss: 1.7603 - accuracy: 0.5413\n",
            "Epoch 53/300\n",
            "8/8 [==============================] - 0s 3ms/step - loss: 1.7007 - accuracy: 0.5661\n",
            "Epoch 54/300\n",
            "8/8 [==============================] - 0s 4ms/step - loss: 1.6656 - accuracy: 0.5620\n",
            "Epoch 55/300\n",
            "8/8 [==============================] - 0s 3ms/step - loss: 1.5709 - accuracy: 0.5702\n",
            "Epoch 56/300\n",
            "8/8 [==============================] - 0s 3ms/step - loss: 1.5858 - accuracy: 0.5909\n",
            "Epoch 57/300\n",
            "8/8 [==============================] - 0s 3ms/step - loss: 1.5114 - accuracy: 0.5785\n",
            "Epoch 58/300\n",
            "8/8 [==============================] - 0s 3ms/step - loss: 1.4475 - accuracy: 0.5826\n",
            "Epoch 59/300\n",
            "8/8 [==============================] - 0s 3ms/step - loss: 1.4208 - accuracy: 0.5909\n",
            "Epoch 60/300\n",
            "8/8 [==============================] - 0s 3ms/step - loss: 1.3497 - accuracy: 0.5950\n",
            "Epoch 61/300\n",
            "8/8 [==============================] - 0s 3ms/step - loss: 1.3182 - accuracy: 0.6074\n",
            "Epoch 62/300\n",
            "8/8 [==============================] - 0s 3ms/step - loss: 1.2784 - accuracy: 0.6157\n",
            "Epoch 63/300\n",
            "8/8 [==============================] - 0s 3ms/step - loss: 1.2328 - accuracy: 0.6116\n",
            "Epoch 64/300\n",
            "8/8 [==============================] - 0s 3ms/step - loss: 1.2022 - accuracy: 0.6157\n",
            "Epoch 65/300\n",
            "8/8 [==============================] - 0s 2ms/step - loss: 1.1557 - accuracy: 0.6074\n",
            "Epoch 66/300\n",
            "8/8 [==============================] - 0s 3ms/step - loss: 1.1214 - accuracy: 0.6074\n",
            "Epoch 67/300\n",
            "8/8 [==============================] - 0s 3ms/step - loss: 1.0944 - accuracy: 0.6198\n",
            "Epoch 68/300\n",
            "8/8 [==============================] - 0s 4ms/step - loss: 1.0503 - accuracy: 0.6281\n",
            "Epoch 69/300\n",
            "8/8 [==============================] - 0s 4ms/step - loss: 1.0405 - accuracy: 0.6446\n",
            "Epoch 70/300\n",
            "8/8 [==============================] - 0s 3ms/step - loss: 1.0348 - accuracy: 0.6405\n",
            "Epoch 71/300\n",
            "8/8 [==============================] - 0s 3ms/step - loss: 0.9974 - accuracy: 0.6570\n",
            "Epoch 72/300\n",
            "8/8 [==============================] - 0s 3ms/step - loss: 0.9320 - accuracy: 0.6405\n",
            "Epoch 73/300\n",
            "8/8 [==============================] - 0s 3ms/step - loss: 0.9229 - accuracy: 0.6529\n",
            "Epoch 74/300\n",
            "8/8 [==============================] - 0s 3ms/step - loss: 0.8931 - accuracy: 0.6570\n",
            "Epoch 75/300\n",
            "8/8 [==============================] - 0s 3ms/step - loss: 0.8648 - accuracy: 0.6653\n",
            "Epoch 76/300\n",
            "8/8 [==============================] - 0s 2ms/step - loss: 0.8454 - accuracy: 0.6694\n",
            "Epoch 77/300\n",
            "8/8 [==============================] - 0s 3ms/step - loss: 0.8581 - accuracy: 0.6529\n",
            "Epoch 78/300\n",
            "8/8 [==============================] - 0s 3ms/step - loss: 0.8169 - accuracy: 0.6901\n",
            "Epoch 79/300\n",
            "8/8 [==============================] - 0s 3ms/step - loss: 0.7750 - accuracy: 0.6860\n",
            "Epoch 80/300\n",
            "8/8 [==============================] - 0s 3ms/step - loss: 0.7905 - accuracy: 0.6694\n",
            "Epoch 81/300\n",
            "8/8 [==============================] - 0s 3ms/step - loss: 0.7542 - accuracy: 0.6942\n",
            "Epoch 82/300\n",
            "8/8 [==============================] - 0s 3ms/step - loss: 0.7541 - accuracy: 0.6818\n",
            "Epoch 83/300\n",
            "8/8 [==============================] - 0s 3ms/step - loss: 0.7280 - accuracy: 0.7149\n",
            "Epoch 84/300\n",
            "8/8 [==============================] - 0s 3ms/step - loss: 0.7081 - accuracy: 0.7066\n",
            "Epoch 85/300\n",
            "8/8 [==============================] - 0s 3ms/step - loss: 0.6945 - accuracy: 0.6942\n",
            "Epoch 86/300\n",
            "8/8 [==============================] - 0s 3ms/step - loss: 0.6759 - accuracy: 0.7025\n",
            "Epoch 87/300\n",
            "8/8 [==============================] - 0s 3ms/step - loss: 0.6603 - accuracy: 0.7066\n",
            "Epoch 88/300\n",
            "8/8 [==============================] - 0s 3ms/step - loss: 0.6492 - accuracy: 0.7231\n",
            "Epoch 89/300\n",
            "8/8 [==============================] - 0s 3ms/step - loss: 0.6400 - accuracy: 0.7149\n",
            "Epoch 90/300\n",
            "8/8 [==============================] - 0s 3ms/step - loss: 0.6467 - accuracy: 0.7355\n",
            "Epoch 91/300\n",
            "8/8 [==============================] - 0s 3ms/step - loss: 0.6349 - accuracy: 0.7273\n",
            "Epoch 92/300\n",
            "8/8 [==============================] - 0s 3ms/step - loss: 0.6108 - accuracy: 0.7562\n",
            "Epoch 93/300\n",
            "8/8 [==============================] - 0s 3ms/step - loss: 0.6038 - accuracy: 0.7521\n",
            "Epoch 94/300\n",
            "8/8 [==============================] - 0s 3ms/step - loss: 0.5924 - accuracy: 0.7438\n",
            "Epoch 95/300\n",
            "8/8 [==============================] - 0s 3ms/step - loss: 0.5816 - accuracy: 0.7521\n",
            "Epoch 96/300\n",
            "8/8 [==============================] - 0s 3ms/step - loss: 0.5750 - accuracy: 0.7562\n",
            "Epoch 97/300\n",
            "8/8 [==============================] - 0s 3ms/step - loss: 0.5645 - accuracy: 0.7686\n",
            "Epoch 98/300\n",
            "8/8 [==============================] - 0s 4ms/step - loss: 0.5584 - accuracy: 0.7769\n",
            "Epoch 99/300\n",
            "8/8 [==============================] - 0s 4ms/step - loss: 0.5574 - accuracy: 0.7645\n",
            "Epoch 100/300\n",
            "8/8 [==============================] - 0s 3ms/step - loss: 0.5455 - accuracy: 0.7769\n",
            "Epoch 101/300\n",
            "8/8 [==============================] - 0s 3ms/step - loss: 0.5483 - accuracy: 0.7810\n",
            "Epoch 102/300\n",
            "8/8 [==============================] - 0s 3ms/step - loss: 0.5366 - accuracy: 0.7603\n",
            "Epoch 103/300\n",
            "8/8 [==============================] - 0s 3ms/step - loss: 0.5335 - accuracy: 0.7851\n",
            "Epoch 104/300\n",
            "8/8 [==============================] - 0s 3ms/step - loss: 0.5325 - accuracy: 0.7934\n",
            "Epoch 105/300\n",
            "8/8 [==============================] - 0s 2ms/step - loss: 0.5272 - accuracy: 0.7769\n",
            "Epoch 106/300\n",
            "8/8 [==============================] - 0s 3ms/step - loss: 0.5214 - accuracy: 0.7645\n",
            "Epoch 107/300\n",
            "8/8 [==============================] - 0s 3ms/step - loss: 0.5526 - accuracy: 0.7686\n",
            "Epoch 108/300\n",
            "8/8 [==============================] - 0s 3ms/step - loss: 0.5603 - accuracy: 0.7686\n",
            "Epoch 109/300\n",
            "8/8 [==============================] - 0s 3ms/step - loss: 0.5321 - accuracy: 0.7810\n",
            "Epoch 110/300\n",
            "8/8 [==============================] - 0s 3ms/step - loss: 0.5098 - accuracy: 0.7810\n",
            "Epoch 111/300\n",
            "8/8 [==============================] - 0s 3ms/step - loss: 0.4906 - accuracy: 0.7975\n",
            "Epoch 112/300\n",
            "8/8 [==============================] - 0s 3ms/step - loss: 0.4912 - accuracy: 0.8058\n",
            "Epoch 113/300\n",
            "8/8 [==============================] - 0s 3ms/step - loss: 0.4894 - accuracy: 0.7975\n",
            "Epoch 114/300\n",
            "8/8 [==============================] - 0s 3ms/step - loss: 0.4850 - accuracy: 0.7893\n",
            "Epoch 115/300\n",
            "8/8 [==============================] - 0s 3ms/step - loss: 0.4910 - accuracy: 0.8182\n",
            "Epoch 116/300\n",
            "8/8 [==============================] - 0s 3ms/step - loss: 0.4784 - accuracy: 0.7934\n",
            "Epoch 117/300\n",
            "8/8 [==============================] - 0s 3ms/step - loss: 0.5077 - accuracy: 0.7893\n",
            "Epoch 118/300\n",
            "8/8 [==============================] - 0s 3ms/step - loss: 0.4928 - accuracy: 0.7769\n",
            "Epoch 119/300\n",
            "8/8 [==============================] - 0s 3ms/step - loss: 0.5006 - accuracy: 0.7934\n",
            "Epoch 120/300\n",
            "8/8 [==============================] - 0s 3ms/step - loss: 0.4703 - accuracy: 0.8017\n",
            "Epoch 121/300\n",
            "8/8 [==============================] - 0s 3ms/step - loss: 0.4753 - accuracy: 0.8017\n",
            "Epoch 122/300\n",
            "8/8 [==============================] - 0s 3ms/step - loss: 0.4565 - accuracy: 0.8306\n",
            "Epoch 123/300\n",
            "8/8 [==============================] - 0s 3ms/step - loss: 0.4612 - accuracy: 0.8140\n",
            "Epoch 124/300\n",
            "8/8 [==============================] - 0s 3ms/step - loss: 0.4629 - accuracy: 0.8182\n",
            "Epoch 125/300\n",
            "8/8 [==============================] - 0s 3ms/step - loss: 0.4684 - accuracy: 0.8140\n",
            "Epoch 126/300\n",
            "8/8 [==============================] - 0s 3ms/step - loss: 0.4644 - accuracy: 0.8058\n",
            "Epoch 127/300\n",
            "8/8 [==============================] - 0s 4ms/step - loss: 0.4560 - accuracy: 0.8017\n",
            "Epoch 128/300\n",
            "8/8 [==============================] - 0s 5ms/step - loss: 0.4435 - accuracy: 0.8140\n",
            "Epoch 129/300\n",
            "8/8 [==============================] - 0s 4ms/step - loss: 0.4424 - accuracy: 0.8099\n",
            "Epoch 130/300\n",
            "8/8 [==============================] - 0s 3ms/step - loss: 0.4399 - accuracy: 0.8347\n",
            "Epoch 131/300\n",
            "8/8 [==============================] - 0s 3ms/step - loss: 0.4391 - accuracy: 0.8306\n",
            "Epoch 132/300\n",
            "8/8 [==============================] - 0s 3ms/step - loss: 0.4493 - accuracy: 0.8058\n",
            "Epoch 133/300\n",
            "8/8 [==============================] - 0s 3ms/step - loss: 0.4430 - accuracy: 0.8223\n",
            "Epoch 134/300\n",
            "8/8 [==============================] - 0s 4ms/step - loss: 0.4687 - accuracy: 0.8017\n",
            "Epoch 135/300\n",
            "8/8 [==============================] - 0s 3ms/step - loss: 0.4459 - accuracy: 0.8347\n",
            "Epoch 136/300\n",
            "8/8 [==============================] - 0s 3ms/step - loss: 0.4355 - accuracy: 0.8182\n",
            "Epoch 137/300\n",
            "8/8 [==============================] - 0s 3ms/step - loss: 0.4302 - accuracy: 0.8223\n",
            "Epoch 138/300\n",
            "8/8 [==============================] - 0s 3ms/step - loss: 0.4386 - accuracy: 0.8264\n",
            "Epoch 139/300\n",
            "8/8 [==============================] - 0s 3ms/step - loss: 0.4231 - accuracy: 0.8223\n",
            "Epoch 140/300\n",
            "8/8 [==============================] - 0s 4ms/step - loss: 0.4272 - accuracy: 0.8182\n",
            "Epoch 141/300\n",
            "8/8 [==============================] - 0s 3ms/step - loss: 0.4191 - accuracy: 0.8306\n",
            "Epoch 142/300\n",
            "8/8 [==============================] - 0s 3ms/step - loss: 0.4274 - accuracy: 0.8223\n",
            "Epoch 143/300\n",
            "8/8 [==============================] - 0s 3ms/step - loss: 0.4247 - accuracy: 0.8140\n",
            "Epoch 144/300\n",
            "8/8 [==============================] - 0s 3ms/step - loss: 0.4163 - accuracy: 0.8306\n",
            "Epoch 145/300\n",
            "8/8 [==============================] - 0s 3ms/step - loss: 0.4176 - accuracy: 0.8306\n",
            "Epoch 146/300\n",
            "8/8 [==============================] - 0s 4ms/step - loss: 0.4182 - accuracy: 0.8388\n",
            "Epoch 147/300\n",
            "8/8 [==============================] - 0s 3ms/step - loss: 0.4207 - accuracy: 0.8264\n",
            "Epoch 148/300\n",
            "8/8 [==============================] - 0s 3ms/step - loss: 0.4331 - accuracy: 0.8182\n",
            "Epoch 149/300\n",
            "8/8 [==============================] - 0s 3ms/step - loss: 0.4224 - accuracy: 0.8182\n",
            "Epoch 150/300\n",
            "8/8 [==============================] - 0s 3ms/step - loss: 0.4106 - accuracy: 0.8264\n",
            "Epoch 151/300\n",
            "8/8 [==============================] - 0s 3ms/step - loss: 0.4116 - accuracy: 0.8388\n",
            "Epoch 152/300\n",
            "8/8 [==============================] - 0s 3ms/step - loss: 0.4128 - accuracy: 0.8264\n",
            "Epoch 153/300\n",
            "8/8 [==============================] - 0s 3ms/step - loss: 0.4143 - accuracy: 0.8182\n",
            "Epoch 154/300\n",
            "8/8 [==============================] - 0s 3ms/step - loss: 0.4186 - accuracy: 0.8223\n",
            "Epoch 155/300\n",
            "8/8 [==============================] - 0s 3ms/step - loss: 0.4220 - accuracy: 0.8264\n",
            "Epoch 156/300\n",
            "8/8 [==============================] - 0s 3ms/step - loss: 0.4009 - accuracy: 0.8223\n",
            "Epoch 157/300\n",
            "8/8 [==============================] - 0s 4ms/step - loss: 0.4082 - accuracy: 0.8347\n",
            "Epoch 158/300\n",
            "8/8 [==============================] - 0s 3ms/step - loss: 0.4188 - accuracy: 0.8347\n",
            "Epoch 159/300\n",
            "8/8 [==============================] - 0s 4ms/step - loss: 0.4587 - accuracy: 0.7851\n",
            "Epoch 160/300\n",
            "8/8 [==============================] - 0s 3ms/step - loss: 0.4891 - accuracy: 0.7934\n",
            "Epoch 161/300\n",
            "8/8 [==============================] - 0s 3ms/step - loss: 0.4247 - accuracy: 0.8264\n",
            "Epoch 162/300\n",
            "8/8 [==============================] - 0s 3ms/step - loss: 0.4061 - accuracy: 0.8471\n",
            "Epoch 163/300\n",
            "8/8 [==============================] - 0s 5ms/step - loss: 0.4029 - accuracy: 0.8388\n",
            "Epoch 164/300\n",
            "8/8 [==============================] - 0s 3ms/step - loss: 0.4115 - accuracy: 0.8182\n",
            "Epoch 165/300\n",
            "8/8 [==============================] - 0s 3ms/step - loss: 0.4204 - accuracy: 0.8099\n",
            "Epoch 166/300\n",
            "8/8 [==============================] - 0s 3ms/step - loss: 0.4143 - accuracy: 0.8347\n",
            "Epoch 167/300\n",
            "8/8 [==============================] - 0s 3ms/step - loss: 0.3983 - accuracy: 0.8347\n",
            "Epoch 168/300\n",
            "8/8 [==============================] - 0s 3ms/step - loss: 0.4029 - accuracy: 0.8182\n",
            "Epoch 169/300\n",
            "8/8 [==============================] - 0s 3ms/step - loss: 0.3917 - accuracy: 0.8306\n",
            "Epoch 170/300\n",
            "8/8 [==============================] - 0s 3ms/step - loss: 0.4056 - accuracy: 0.8430\n",
            "Epoch 171/300\n",
            "8/8 [==============================] - 0s 3ms/step - loss: 0.4100 - accuracy: 0.8223\n",
            "Epoch 172/300\n",
            "8/8 [==============================] - 0s 3ms/step - loss: 0.4007 - accuracy: 0.8388\n",
            "Epoch 173/300\n",
            "8/8 [==============================] - 0s 3ms/step - loss: 0.3864 - accuracy: 0.8306\n",
            "Epoch 174/300\n",
            "8/8 [==============================] - 0s 3ms/step - loss: 0.3889 - accuracy: 0.8347\n",
            "Epoch 175/300\n",
            "8/8 [==============================] - 0s 4ms/step - loss: 0.4006 - accuracy: 0.8223\n",
            "Epoch 176/300\n",
            "8/8 [==============================] - 0s 3ms/step - loss: 0.3952 - accuracy: 0.8471\n",
            "Epoch 177/300\n",
            "8/8 [==============================] - 0s 3ms/step - loss: 0.4206 - accuracy: 0.8388\n",
            "Epoch 178/300\n",
            "8/8 [==============================] - 0s 3ms/step - loss: 0.4022 - accuracy: 0.8388\n",
            "Epoch 179/300\n",
            "8/8 [==============================] - 0s 3ms/step - loss: 0.3837 - accuracy: 0.8512\n",
            "Epoch 180/300\n",
            "8/8 [==============================] - 0s 3ms/step - loss: 0.3835 - accuracy: 0.8388\n",
            "Epoch 181/300\n",
            "8/8 [==============================] - 0s 3ms/step - loss: 0.3871 - accuracy: 0.8430\n",
            "Epoch 182/300\n",
            "8/8 [==============================] - 0s 3ms/step - loss: 0.3854 - accuracy: 0.8347\n",
            "Epoch 183/300\n",
            "8/8 [==============================] - 0s 4ms/step - loss: 0.4004 - accuracy: 0.8223\n",
            "Epoch 184/300\n",
            "8/8 [==============================] - 0s 3ms/step - loss: 0.3838 - accuracy: 0.8430\n",
            "Epoch 185/300\n",
            "8/8 [==============================] - 0s 3ms/step - loss: 0.3833 - accuracy: 0.8512\n",
            "Epoch 186/300\n",
            "8/8 [==============================] - 0s 5ms/step - loss: 0.3806 - accuracy: 0.8388\n",
            "Epoch 187/300\n",
            "8/8 [==============================] - 0s 3ms/step - loss: 0.3811 - accuracy: 0.8512\n",
            "Epoch 188/300\n",
            "8/8 [==============================] - 0s 3ms/step - loss: 0.3905 - accuracy: 0.8388\n",
            "Epoch 189/300\n",
            "8/8 [==============================] - 0s 3ms/step - loss: 0.3843 - accuracy: 0.8388\n",
            "Epoch 190/300\n",
            "8/8 [==============================] - 0s 3ms/step - loss: 0.3843 - accuracy: 0.8347\n",
            "Epoch 191/300\n",
            "8/8 [==============================] - 0s 3ms/step - loss: 0.3784 - accuracy: 0.8554\n",
            "Epoch 192/300\n",
            "8/8 [==============================] - 0s 3ms/step - loss: 0.3843 - accuracy: 0.8430\n",
            "Epoch 193/300\n",
            "8/8 [==============================] - 0s 4ms/step - loss: 0.3894 - accuracy: 0.8430\n",
            "Epoch 194/300\n",
            "8/8 [==============================] - 0s 4ms/step - loss: 0.3792 - accuracy: 0.8471\n",
            "Epoch 195/300\n",
            "8/8 [==============================] - 0s 3ms/step - loss: 0.3751 - accuracy: 0.8471\n",
            "Epoch 196/300\n",
            "8/8 [==============================] - 0s 3ms/step - loss: 0.3813 - accuracy: 0.8388\n",
            "Epoch 197/300\n",
            "8/8 [==============================] - 0s 4ms/step - loss: 0.3811 - accuracy: 0.8388\n",
            "Epoch 198/300\n",
            "8/8 [==============================] - 0s 3ms/step - loss: 0.4000 - accuracy: 0.8182\n",
            "Epoch 199/300\n",
            "8/8 [==============================] - 0s 3ms/step - loss: 0.3755 - accuracy: 0.8430\n",
            "Epoch 200/300\n",
            "8/8 [==============================] - 0s 3ms/step - loss: 0.3797 - accuracy: 0.8512\n",
            "Epoch 201/300\n",
            "8/8 [==============================] - 0s 3ms/step - loss: 0.3743 - accuracy: 0.8471\n",
            "Epoch 202/300\n",
            "8/8 [==============================] - 0s 3ms/step - loss: 0.3726 - accuracy: 0.8471\n",
            "Epoch 203/300\n",
            "8/8 [==============================] - 0s 4ms/step - loss: 0.3788 - accuracy: 0.8512\n",
            "Epoch 204/300\n",
            "8/8 [==============================] - 0s 3ms/step - loss: 0.3752 - accuracy: 0.8388\n",
            "Epoch 205/300\n",
            "8/8 [==============================] - 0s 4ms/step - loss: 0.3742 - accuracy: 0.8554\n",
            "Epoch 206/300\n",
            "8/8 [==============================] - 0s 3ms/step - loss: 0.3794 - accuracy: 0.8554\n",
            "Epoch 207/300\n",
            "8/8 [==============================] - 0s 3ms/step - loss: 0.3802 - accuracy: 0.8430\n",
            "Epoch 208/300\n",
            "8/8 [==============================] - 0s 3ms/step - loss: 0.3774 - accuracy: 0.8430\n",
            "Epoch 209/300\n",
            "8/8 [==============================] - 0s 3ms/step - loss: 0.3745 - accuracy: 0.8347\n",
            "Epoch 210/300\n",
            "8/8 [==============================] - 0s 3ms/step - loss: 0.3853 - accuracy: 0.8471\n",
            "Epoch 211/300\n",
            "8/8 [==============================] - 0s 3ms/step - loss: 0.3764 - accuracy: 0.8430\n",
            "Epoch 212/300\n",
            "8/8 [==============================] - 0s 3ms/step - loss: 0.3806 - accuracy: 0.8347\n",
            "Epoch 213/300\n",
            "8/8 [==============================] - 0s 3ms/step - loss: 0.3704 - accuracy: 0.8636\n",
            "Epoch 214/300\n",
            "8/8 [==============================] - 0s 3ms/step - loss: 0.3794 - accuracy: 0.8388\n",
            "Epoch 215/300\n",
            "8/8 [==============================] - 0s 4ms/step - loss: 0.3695 - accuracy: 0.8554\n",
            "Epoch 216/300\n",
            "8/8 [==============================] - 0s 4ms/step - loss: 0.3785 - accuracy: 0.8554\n",
            "Epoch 217/300\n",
            "8/8 [==============================] - 0s 3ms/step - loss: 0.3728 - accuracy: 0.8471\n",
            "Epoch 218/300\n",
            "8/8 [==============================] - 0s 3ms/step - loss: 0.3796 - accuracy: 0.8471\n",
            "Epoch 219/300\n",
            "8/8 [==============================] - 0s 3ms/step - loss: 0.3797 - accuracy: 0.8306\n",
            "Epoch 220/300\n",
            "8/8 [==============================] - 0s 3ms/step - loss: 0.3742 - accuracy: 0.8554\n",
            "Epoch 221/300\n",
            "8/8 [==============================] - 0s 3ms/step - loss: 0.3930 - accuracy: 0.8430\n",
            "Epoch 222/300\n",
            "8/8 [==============================] - 0s 4ms/step - loss: 0.3938 - accuracy: 0.8388\n",
            "Epoch 223/300\n",
            "8/8 [==============================] - 0s 4ms/step - loss: 0.3804 - accuracy: 0.8430\n",
            "Epoch 224/300\n",
            "8/8 [==============================] - 0s 3ms/step - loss: 0.3712 - accuracy: 0.8347\n",
            "Epoch 225/300\n",
            "8/8 [==============================] - 0s 3ms/step - loss: 0.3779 - accuracy: 0.8430\n",
            "Epoch 226/300\n",
            "8/8 [==============================] - 0s 5ms/step - loss: 0.3805 - accuracy: 0.8140\n",
            "Epoch 227/300\n",
            "8/8 [==============================] - 0s 3ms/step - loss: 0.3941 - accuracy: 0.8347\n",
            "Epoch 228/300\n",
            "8/8 [==============================] - 0s 3ms/step - loss: 0.3716 - accuracy: 0.8554\n",
            "Epoch 229/300\n",
            "8/8 [==============================] - 0s 3ms/step - loss: 0.3699 - accuracy: 0.8595\n",
            "Epoch 230/300\n",
            "8/8 [==============================] - 0s 3ms/step - loss: 0.3730 - accuracy: 0.8430\n",
            "Epoch 231/300\n",
            "8/8 [==============================] - 0s 3ms/step - loss: 0.3884 - accuracy: 0.8306\n",
            "Epoch 232/300\n",
            "8/8 [==============================] - 0s 3ms/step - loss: 0.4179 - accuracy: 0.8058\n",
            "Epoch 233/300\n",
            "8/8 [==============================] - 0s 4ms/step - loss: 0.4005 - accuracy: 0.8223\n",
            "Epoch 234/300\n",
            "8/8 [==============================] - 0s 3ms/step - loss: 0.3824 - accuracy: 0.8306\n",
            "Epoch 235/300\n",
            "8/8 [==============================] - 0s 4ms/step - loss: 0.3821 - accuracy: 0.8430\n",
            "Epoch 236/300\n",
            "8/8 [==============================] - 0s 3ms/step - loss: 0.3661 - accuracy: 0.8636\n",
            "Epoch 237/300\n",
            "8/8 [==============================] - 0s 4ms/step - loss: 0.3727 - accuracy: 0.8430\n",
            "Epoch 238/300\n",
            "8/8 [==============================] - 0s 3ms/step - loss: 0.3953 - accuracy: 0.8223\n",
            "Epoch 239/300\n",
            "8/8 [==============================] - 0s 3ms/step - loss: 0.3814 - accuracy: 0.8595\n",
            "Epoch 240/300\n",
            "8/8 [==============================] - 0s 3ms/step - loss: 0.3672 - accuracy: 0.8471\n",
            "Epoch 241/300\n",
            "8/8 [==============================] - 0s 3ms/step - loss: 0.3699 - accuracy: 0.8595\n",
            "Epoch 242/300\n",
            "8/8 [==============================] - 0s 3ms/step - loss: 0.3734 - accuracy: 0.8512\n",
            "Epoch 243/300\n",
            "8/8 [==============================] - 0s 6ms/step - loss: 0.3706 - accuracy: 0.8554\n",
            "Epoch 244/300\n",
            "8/8 [==============================] - 0s 4ms/step - loss: 0.3685 - accuracy: 0.8347\n",
            "Epoch 245/300\n",
            "8/8 [==============================] - 0s 3ms/step - loss: 0.3814 - accuracy: 0.8471\n",
            "Epoch 246/300\n",
            "8/8 [==============================] - 0s 3ms/step - loss: 0.3661 - accuracy: 0.8554\n",
            "Epoch 247/300\n",
            "8/8 [==============================] - 0s 3ms/step - loss: 0.3872 - accuracy: 0.8347\n",
            "Epoch 248/300\n",
            "8/8 [==============================] - 0s 3ms/step - loss: 0.3773 - accuracy: 0.8430\n",
            "Epoch 249/300\n",
            "8/8 [==============================] - 0s 4ms/step - loss: 0.3677 - accuracy: 0.8595\n",
            "Epoch 250/300\n",
            "8/8 [==============================] - 0s 3ms/step - loss: 0.3653 - accuracy: 0.8512\n",
            "Epoch 251/300\n",
            "8/8 [==============================] - 0s 4ms/step - loss: 0.3709 - accuracy: 0.8388\n",
            "Epoch 252/300\n",
            "8/8 [==============================] - 0s 3ms/step - loss: 0.3972 - accuracy: 0.8223\n",
            "Epoch 253/300\n",
            "8/8 [==============================] - 0s 3ms/step - loss: 0.3622 - accuracy: 0.8554\n",
            "Epoch 254/300\n",
            "8/8 [==============================] - 0s 3ms/step - loss: 0.3673 - accuracy: 0.8471\n",
            "Epoch 255/300\n",
            "8/8 [==============================] - 0s 3ms/step - loss: 0.3814 - accuracy: 0.8264\n",
            "Epoch 256/300\n",
            "8/8 [==============================] - 0s 3ms/step - loss: 0.3958 - accuracy: 0.8264\n",
            "Epoch 257/300\n",
            "8/8 [==============================] - 0s 3ms/step - loss: 0.3894 - accuracy: 0.8223\n",
            "Epoch 258/300\n",
            "8/8 [==============================] - 0s 3ms/step - loss: 0.3710 - accuracy: 0.8554\n",
            "Epoch 259/300\n",
            "8/8 [==============================] - 0s 4ms/step - loss: 0.3724 - accuracy: 0.8388\n",
            "Epoch 260/300\n",
            "8/8 [==============================] - 0s 3ms/step - loss: 0.3930 - accuracy: 0.8182\n",
            "Epoch 261/300\n",
            "8/8 [==============================] - 0s 3ms/step - loss: 0.4440 - accuracy: 0.8223\n",
            "Epoch 262/300\n",
            "8/8 [==============================] - 0s 4ms/step - loss: 0.4381 - accuracy: 0.8099\n",
            "Epoch 263/300\n",
            "8/8 [==============================] - 0s 3ms/step - loss: 0.4012 - accuracy: 0.8306\n",
            "Epoch 264/300\n",
            "8/8 [==============================] - 0s 3ms/step - loss: 0.3634 - accuracy: 0.8554\n",
            "Epoch 265/300\n",
            "8/8 [==============================] - 0s 4ms/step - loss: 0.3699 - accuracy: 0.8512\n",
            "Epoch 266/300\n",
            "8/8 [==============================] - 0s 4ms/step - loss: 0.3709 - accuracy: 0.8554\n",
            "Epoch 267/300\n",
            "8/8 [==============================] - 0s 3ms/step - loss: 0.3732 - accuracy: 0.8512\n",
            "Epoch 268/300\n",
            "8/8 [==============================] - 0s 4ms/step - loss: 0.4010 - accuracy: 0.8306\n",
            "Epoch 269/300\n",
            "8/8 [==============================] - 0s 3ms/step - loss: 0.3761 - accuracy: 0.8347\n",
            "Epoch 270/300\n",
            "8/8 [==============================] - 0s 4ms/step - loss: 0.3709 - accuracy: 0.8512\n",
            "Epoch 271/300\n",
            "8/8 [==============================] - 0s 3ms/step - loss: 0.3605 - accuracy: 0.8554\n",
            "Epoch 272/300\n",
            "8/8 [==============================] - 0s 5ms/step - loss: 0.3595 - accuracy: 0.8636\n",
            "Epoch 273/300\n",
            "8/8 [==============================] - 0s 3ms/step - loss: 0.3686 - accuracy: 0.8595\n",
            "Epoch 274/300\n",
            "8/8 [==============================] - 0s 3ms/step - loss: 0.3690 - accuracy: 0.8471\n",
            "Epoch 275/300\n",
            "8/8 [==============================] - 0s 3ms/step - loss: 0.3605 - accuracy: 0.8678\n",
            "Epoch 276/300\n",
            "8/8 [==============================] - 0s 3ms/step - loss: 0.3664 - accuracy: 0.8430\n",
            "Epoch 277/300\n",
            "8/8 [==============================] - 0s 4ms/step - loss: 0.3656 - accuracy: 0.8595\n",
            "Epoch 278/300\n",
            "8/8 [==============================] - 0s 3ms/step - loss: 0.3695 - accuracy: 0.8388\n",
            "Epoch 279/300\n",
            "8/8 [==============================] - 0s 3ms/step - loss: 0.3667 - accuracy: 0.8554\n",
            "Epoch 280/300\n",
            "8/8 [==============================] - 0s 4ms/step - loss: 0.3818 - accuracy: 0.8182\n",
            "Epoch 281/300\n",
            "8/8 [==============================] - 0s 4ms/step - loss: 0.3771 - accuracy: 0.8595\n",
            "Epoch 282/300\n",
            "8/8 [==============================] - 0s 3ms/step - loss: 0.3597 - accuracy: 0.8678\n",
            "Epoch 283/300\n",
            "8/8 [==============================] - 0s 3ms/step - loss: 0.3592 - accuracy: 0.8678\n",
            "Epoch 284/300\n",
            "8/8 [==============================] - 0s 3ms/step - loss: 0.3693 - accuracy: 0.8636\n",
            "Epoch 285/300\n",
            "8/8 [==============================] - 0s 3ms/step - loss: 0.3712 - accuracy: 0.8595\n",
            "Epoch 286/300\n",
            "8/8 [==============================] - 0s 3ms/step - loss: 0.3589 - accuracy: 0.8636\n",
            "Epoch 287/300\n",
            "8/8 [==============================] - 0s 3ms/step - loss: 0.3666 - accuracy: 0.8595\n",
            "Epoch 288/300\n",
            "8/8 [==============================] - 0s 3ms/step - loss: 0.3786 - accuracy: 0.8512\n",
            "Epoch 289/300\n",
            "8/8 [==============================] - 0s 3ms/step - loss: 0.3762 - accuracy: 0.8306\n",
            "Epoch 290/300\n",
            "8/8 [==============================] - 0s 3ms/step - loss: 0.3842 - accuracy: 0.8306\n",
            "Epoch 291/300\n",
            "8/8 [==============================] - 0s 3ms/step - loss: 0.3655 - accuracy: 0.8636\n",
            "Epoch 292/300\n",
            "8/8 [==============================] - 0s 3ms/step - loss: 0.3660 - accuracy: 0.8512\n",
            "Epoch 293/300\n",
            "8/8 [==============================] - 0s 3ms/step - loss: 0.3671 - accuracy: 0.8471\n",
            "Epoch 294/300\n",
            "8/8 [==============================] - 0s 4ms/step - loss: 0.3674 - accuracy: 0.8347\n",
            "Epoch 295/300\n",
            "8/8 [==============================] - 0s 3ms/step - loss: 0.3649 - accuracy: 0.8512\n",
            "Epoch 296/300\n",
            "8/8 [==============================] - 0s 3ms/step - loss: 0.3627 - accuracy: 0.8512\n",
            "Epoch 297/300\n",
            "8/8 [==============================] - 0s 3ms/step - loss: 0.3686 - accuracy: 0.8388\n",
            "Epoch 298/300\n",
            "8/8 [==============================] - 0s 3ms/step - loss: 0.3639 - accuracy: 0.8554\n",
            "Epoch 299/300\n",
            "8/8 [==============================] - 0s 4ms/step - loss: 0.3676 - accuracy: 0.8512\n",
            "Epoch 300/300\n",
            "8/8 [==============================] - 0s 3ms/step - loss: 0.3656 - accuracy: 0.8678\n"
          ]
        },
        {
          "output_type": "execute_result",
          "data": {
            "text/plain": [
              "<keras.callbacks.History at 0x7f2c944511d0>"
            ]
          },
          "metadata": {},
          "execution_count": 68
        }
      ],
      "source": [
        "model.fit(X_train,Y_train,epochs=300)\n"
      ],
      "id": "2036381e"
    },
    {
      "cell_type": "code",
      "execution_count": 69,
      "metadata": {
        "id": "8a3d7365"
      },
      "outputs": [],
      "source": [
        "Y_pred_nn = model.predict(X_test)"
      ],
      "id": "8a3d7365"
    },
    {
      "cell_type": "code",
      "execution_count": 70,
      "metadata": {
        "colab": {
          "base_uri": "https://localhost:8080/"
        },
        "id": "f0f9e1fa",
        "outputId": "556ac4b6-5abb-4fe9-e6cb-59ea10037156"
      },
      "outputs": [
        {
          "output_type": "execute_result",
          "data": {
            "text/plain": [
              "(61, 1)"
            ]
          },
          "metadata": {},
          "execution_count": 70
        }
      ],
      "source": [
        "Y_pred_nn.shape"
      ],
      "id": "f0f9e1fa"
    },
    {
      "cell_type": "code",
      "execution_count": 71,
      "metadata": {
        "id": "f324df8b"
      },
      "outputs": [],
      "source": [
        "rounded = [round(x[0]) for x in Y_pred_nn]\n",
        "\n",
        "Y_pred_nn = rounded"
      ],
      "id": "f324df8b"
    },
    {
      "cell_type": "code",
      "execution_count": 72,
      "metadata": {
        "colab": {
          "base_uri": "https://localhost:8080/"
        },
        "id": "e0a8bce6",
        "outputId": "31197ef6-3aac-4e7a-a742-d4945baa801d"
      },
      "outputs": [
        {
          "output_type": "stream",
          "name": "stdout",
          "text": [
            "The accuracy score achieved using Neural Network is: 81.97 %\n"
          ]
        }
      ],
      "source": [
        "score_nn = round(accuracy_score(Y_pred_nn,Y_test)*100,2)\n",
        "\n",
        "print(\"The accuracy score achieved using Neural Network is: \"+str(score_nn)+\" %\")\n",
        "\n",
        "#Note: Accuracy of 85% can be achieved on the test set, by setting epochs=2000, and number of nodes = 11."
      ],
      "id": "e0a8bce6"
    },
    {
      "cell_type": "code",
      "execution_count": 73,
      "metadata": {
        "colab": {
          "base_uri": "https://localhost:8080/"
        },
        "id": "19ef7e9e",
        "outputId": "a2d72a9e-5de5-421e-f061-14a393f04540"
      },
      "outputs": [
        {
          "output_type": "stream",
          "name": "stdout",
          "text": [
            "The accuracy score achieved using Logistic Regression is: 85.25 %\n",
            "The accuracy score achieved using Naive Bayes is: 85.25 %\n",
            "The accuracy score achieved using Support Vector Machine is: 81.97 %\n",
            "The accuracy score achieved using K-Nearest Neighbors is: 67.21 %\n",
            "The accuracy score achieved using Decision Tree is: 81.97 %\n",
            "The accuracy score achieved using Random Forest is: 90.16 %\n",
            "The accuracy score achieved using XGBoost is: 85.25 %\n",
            "The accuracy score achieved using Neural Network is: 81.97 %\n"
          ]
        }
      ],
      "source": [
        "scores = [score_lr,score_nb,score_svm,score_knn,score_dt,score_rf,score_xgb,score_nn]\n",
        "algorithms = [\"Logistic Regression\",\"Naive Bayes\",\"Support Vector Machine\",\"K-Nearest Neighbors\",\"Decision Tree\",\"Random Forest\",\"XGBoost\",\"Neural Network\"]    \n",
        "\n",
        "for i in range(len(algorithms)):\n",
        "    print(\"The accuracy score achieved using \"+algorithms[i]+\" is: \"+str(scores[i])+\" %\")"
      ],
      "id": "19ef7e9e"
    },
    {
      "cell_type": "code",
      "execution_count": 74,
      "metadata": {
        "colab": {
          "base_uri": "https://localhost:8080/",
          "height": 519
        },
        "id": "afab7021",
        "outputId": "dc5de9cb-6081-487a-b15e-0ac9d35e44e7"
      },
      "outputs": [
        {
          "output_type": "execute_result",
          "data": {
            "text/plain": [
              "<matplotlib.axes._subplots.AxesSubplot at 0x7f2c942ce510>"
            ]
          },
          "metadata": {},
          "execution_count": 74
        },
        {
          "output_type": "display_data",
          "data": {
            "text/plain": [
              "<Figure size 1080x576 with 1 Axes>"
            ],
            "image/png": "[encoded data removed]"
          },
          "metadata": {}
        }
      ],
      "source": [
        "sns.set(rc={'figure.figsize':(15,8)})\n",
        "plt.xlabel(\"Algorithms\")\n",
        "plt.ylabel(\"Accuracy score\")\n",
        "\n",
        "sns.barplot(algorithms,scores)"
      ],
      "id": "afab7021"
    },
    {
      "cell_type": "code",
      "execution_count": 75,
      "metadata": {
        "colab": {
          "base_uri": "https://localhost:8080/"
        },
        "id": "632329a6",
        "outputId": "a3d8408c-3a34-4b23-b219-a6bc19a1b1d5"
      },
      "outputs": [
        {
          "output_type": "stream",
          "name": "stdout",
          "text": [
            "[[0.06029359]]\n",
            "The Person has Heart Disease\n"
          ]
        }
      ],
      "source": [
        "input_data = (62,0,0,140,268,0,0,160,0,3.6,0,2,2)\n",
        "\n",
        "# change the input data to a numpy array\n",
        "input_data_as_numpy_array= np.asarray(input_data)\n",
        "\n",
        "# reshape the numpy array as we are predicting for only on instance\n",
        "input_data_reshaped = input_data_as_numpy_array.reshape(1,-1)\n",
        "\n",
        "prediction = model.predict(input_data_reshaped)\n",
        "print(prediction)\n",
        "\n",
        "if (prediction[0]== 0):\n",
        "  print('The Person does not have a Heart Disease')\n",
        "else:\n",
        "  print('The Person has Heart Disease')"
      ],
      "id": "632329a6"
    },
    {
      "cell_type": "code",
      "execution_count": 75,
      "metadata": {
        "id": "1d068486"
      },
      "outputs": [],
      "source": [
        ""
      ],
      "id": "1d068486"
    }
  ],
  "metadata": {
    "colab": {
      "name": "heart disease prediction.ipynb",
      "provenance": [],
      "include_colab_link": true
    },
    "kernelspec": {
      "display_name": "Python 3 (ipykernel)",
      "language": "python",
      "name": "python3"
    },
    "language_info": {
      "codemirror_mode": {
        "name": "ipython",
        "version": 3
      },
      "file_extension": ".py",
      "mimetype": "text/x-python",
      "name": "python",
      "nbconvert_exporter": "python",
      "pygments_lexer": "ipython3",
      "version": "3.9.7"
    }
  },
  "nbformat": 4,
  "nbformat_minor": 5
}